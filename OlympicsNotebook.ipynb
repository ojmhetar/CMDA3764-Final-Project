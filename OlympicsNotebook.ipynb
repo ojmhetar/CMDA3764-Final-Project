{
 "metadata": {
  "name": "",
  "signature": "sha256:376ef3868e5bfb2e3c68bb55fe056f11deac8848857b1e59ab29b1e06a76663f"
 },
 "nbformat": 3,
 "nbformat_minor": 0,
 "worksheets": [
  {
   "cells": [
    {
     "cell_type": "markdown",
     "metadata": {},
     "source": [
      "# CMDA-3654 Final Project\n",
      "## Team-08 | Olympics Data\n",
      "#### Ryan Connors | Ojas Mhetar | Allan Chua | Omar Malik"
     ]
    },
    {
     "cell_type": "markdown",
     "metadata": {},
     "source": [
      "# Setup and library imports "
     ]
    },
    {
     "cell_type": "code",
     "collapsed": false,
     "input": [
      "# enable inline plotting\n",
      "%pylab inline\n",
      "\n",
      "# import libraries\n",
      "import pandas as pd\n",
      "import matplotlib as mp\n",
      "import matplotlib.pyplot as plt\n",
      "import pylab as pl\n",
      "import pickle"
     ],
     "language": "python",
     "metadata": {},
     "outputs": [
      {
       "output_type": "stream",
       "stream": "stdout",
       "text": [
        "Populating the interactive namespace from numpy and matplotlib\n"
       ]
      }
     ],
     "prompt_number": 53
    },
    {
     "cell_type": "markdown",
     "metadata": {},
     "source": [
      "# Import data from csv file and data set to pandas."
     ]
    },
    {
     "cell_type": "code",
     "collapsed": false,
     "input": [
      "olympics = pd.read_csv('Data/OlympicAthletes.csv')"
     ],
     "language": "python",
     "metadata": {},
     "outputs": [],
     "prompt_number": 54
    },
    {
     "cell_type": "markdown",
     "metadata": {},
     "source": [
      "# Reshape Date Data from 1904 Date System"
     ]
    },
    {
     "cell_type": "markdown",
     "metadata": {},
     "source": [
      "#### The Macintosh default 1904-based date system counts 1904-01-02 as day one and 1904-01-01 as day zero. To clean up the data, we must convert each of the values in 'Closing Ceremony Date' to a relevant python datetime object"
     ]
    },
    {
     "cell_type": "code",
     "collapsed": false,
     "input": [
      "# get the Closing Ceremony Dates variable from the data\n",
      "closing_dates = olympics['Closing Ceremony Date']\n",
      "\n",
      "# create a list for holding the new date values\n",
      "closing_dates_fix = []\n",
      "\n",
      "# convert each 1904-based date to a datetime object and store it in closing_dates_fix\n",
      "for i in range(0, len(closing_dates)):\n",
      "    t = xlrd.xldate_as_tuple(olympics['Closing Ceremony Date'][i], 1)\n",
      "    closing_dates_fix.append(datetime.date(t[0], t[1], t[2]))\n",
      "    \n",
      "# replaces the values in the DataFrame\n",
      "olympics['Closing Ceremony Date'] = closing_dates_fix"
     ],
     "language": "python",
     "metadata": {},
     "outputs": [],
     "prompt_number": 55
    },
    {
     "cell_type": "markdown",
     "metadata": {},
     "source": [
      "#### Here we can verify that the Closing Ceremony Date data has been formatted correctly"
     ]
    },
    {
     "cell_type": "code",
     "collapsed": false,
     "input": [
      "olympics.head()"
     ],
     "language": "python",
     "metadata": {},
     "outputs": [
      {
       "html": [
        "<div style=\"max-height:1000px;max-width:1500px;overflow:auto;\">\n",
        "<table border=\"1\" class=\"dataframe\">\n",
        "  <thead>\n",
        "    <tr style=\"text-align: right;\">\n",
        "      <th></th>\n",
        "      <th>Athlete</th>\n",
        "      <th>Age</th>\n",
        "      <th>Country</th>\n",
        "      <th>Year</th>\n",
        "      <th>Closing Ceremony Date</th>\n",
        "      <th>Sport</th>\n",
        "      <th>Gold Medals</th>\n",
        "      <th>Silver Medals</th>\n",
        "      <th>Bronze Medals</th>\n",
        "      <th>Total Medals</th>\n",
        "    </tr>\n",
        "  </thead>\n",
        "  <tbody>\n",
        "    <tr>\n",
        "      <th>0</th>\n",
        "      <td>   Michael Phelps</td>\n",
        "      <td> 23</td>\n",
        "      <td> United States</td>\n",
        "      <td> 2008</td>\n",
        "      <td> 2012-08-25</td>\n",
        "      <td>   Swimming</td>\n",
        "      <td> 8</td>\n",
        "      <td> 0</td>\n",
        "      <td> 0</td>\n",
        "      <td> 8</td>\n",
        "    </tr>\n",
        "    <tr>\n",
        "      <th>1</th>\n",
        "      <td>   Michael Phelps</td>\n",
        "      <td> 19</td>\n",
        "      <td> United States</td>\n",
        "      <td> 2004</td>\n",
        "      <td> 2008-08-30</td>\n",
        "      <td>   Swimming</td>\n",
        "      <td> 6</td>\n",
        "      <td> 0</td>\n",
        "      <td> 2</td>\n",
        "      <td> 8</td>\n",
        "    </tr>\n",
        "    <tr>\n",
        "      <th>2</th>\n",
        "      <td>   Michael Phelps</td>\n",
        "      <td> 27</td>\n",
        "      <td> United States</td>\n",
        "      <td> 2012</td>\n",
        "      <td> 2016-08-13</td>\n",
        "      <td>   Swimming</td>\n",
        "      <td> 4</td>\n",
        "      <td> 2</td>\n",
        "      <td> 0</td>\n",
        "      <td> 6</td>\n",
        "    </tr>\n",
        "    <tr>\n",
        "      <th>3</th>\n",
        "      <td> Natalie Coughlin</td>\n",
        "      <td> 25</td>\n",
        "      <td> United States</td>\n",
        "      <td> 2008</td>\n",
        "      <td> 2012-08-25</td>\n",
        "      <td>   Swimming</td>\n",
        "      <td> 1</td>\n",
        "      <td> 2</td>\n",
        "      <td> 3</td>\n",
        "      <td> 6</td>\n",
        "    </tr>\n",
        "    <tr>\n",
        "      <th>4</th>\n",
        "      <td>    Aleksey Nemov</td>\n",
        "      <td> 24</td>\n",
        "      <td>        Russia</td>\n",
        "      <td> 2000</td>\n",
        "      <td> 2004-10-02</td>\n",
        "      <td> Gymnastics</td>\n",
        "      <td> 2</td>\n",
        "      <td> 1</td>\n",
        "      <td> 3</td>\n",
        "      <td> 6</td>\n",
        "    </tr>\n",
        "  </tbody>\n",
        "</table>\n",
        "</div>"
       ],
       "metadata": {},
       "output_type": "pyout",
       "prompt_number": 56,
       "text": [
        "            Athlete  Age        Country  Year Closing Ceremony Date  \\\n",
        "0    Michael Phelps   23  United States  2008            2012-08-25   \n",
        "1    Michael Phelps   19  United States  2004            2008-08-30   \n",
        "2    Michael Phelps   27  United States  2012            2016-08-13   \n",
        "3  Natalie Coughlin   25  United States  2008            2012-08-25   \n",
        "4     Aleksey Nemov   24         Russia  2000            2004-10-02   \n",
        "\n",
        "        Sport  Gold Medals  Silver Medals  Bronze Medals  Total Medals  \n",
        "0    Swimming            8              0              0             8  \n",
        "1    Swimming            6              0              2             8  \n",
        "2    Swimming            4              2              0             6  \n",
        "3    Swimming            1              2              3             6  \n",
        "4  Gymnastics            2              1              3             6  "
       ]
      }
     ],
     "prompt_number": 56
    },
    {
     "cell_type": "markdown",
     "metadata": {},
     "source": [
      "# Handle Missing Values"
     ]
    },
    {
     "cell_type": "markdown",
     "metadata": {},
     "source": [
      "#### looking at the data we see there are some NaN values in the Age variable"
     ]
    },
    {
     "cell_type": "code",
     "collapsed": false,
     "input": [
      "np.count_nonzero(np.isnan(olympics.Age))"
     ],
     "language": "python",
     "metadata": {},
     "outputs": [
      {
       "metadata": {},
       "output_type": "pyout",
       "prompt_number": 65,
       "text": [
        "0"
       ]
      }
     ],
     "prompt_number": 65
    },
    {
     "cell_type": "markdown",
     "metadata": {},
     "source": [
      "#### Replace missing age variable with the mean and store it in a new variable 'NewAge'"
     ]
    },
    {
     "cell_type": "code",
     "collapsed": false,
     "input": [
      "olympics['NewAge'] = olympics['Age'].replace(np.nan, mean(olympics['Age']))"
     ],
     "language": "python",
     "metadata": {},
     "outputs": [],
     "prompt_number": 57
    },
    {
     "cell_type": "markdown",
     "metadata": {},
     "source": [
      "#### Replace blank Athlete fields with \"Missing\""
     ]
    },
    {
     "cell_type": "code",
     "collapsed": false,
     "input": [
      "olympics['NewAthlete'] = olympics['Athlete'].replace(np.nan, \"Missing\")"
     ],
     "language": "python",
     "metadata": {},
     "outputs": [],
     "prompt_number": 74
    },
    {
     "cell_type": "markdown",
     "metadata": {},
     "source": [
      "# Save the reshaped data as a pickle"
     ]
    },
    {
     "cell_type": "code",
     "collapsed": false,
     "input": [
      "olympics.to_pickle('Pickle/OlympicsPickle')"
     ],
     "language": "python",
     "metadata": {},
     "outputs": [],
     "prompt_number": 59
    }
   ],
   "metadata": {}
  }
 ]
}