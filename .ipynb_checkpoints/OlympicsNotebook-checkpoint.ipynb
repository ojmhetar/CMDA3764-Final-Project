{
 "metadata": {
  "name": "",
  "signature": "sha256:b168e81a318ceeab666b4d50ddd17b7d92e5d2df20eeb4463de1c29ae8edf7bb"
 },
 "nbformat": 3,
 "nbformat_minor": 0,
 "worksheets": [
  {
   "cells": [
    {
     "cell_type": "markdown",
     "metadata": {},
     "source": [
      "# CMDA-3654 Final Project\n",
      "## Team-08 | Olympics Data\n",
      "#### Ryan Connors | Ojas Mhetar | Allan Chua | Omar Malik"
     ]
    },
    {
     "cell_type": "markdown",
     "metadata": {},
     "source": [
      "# Setup and library imports "
     ]
    },
    {
     "cell_type": "code",
     "collapsed": false,
     "input": [
      "# enable inline plotting\n",
      "%pylab inline\n",
      "\n",
      "# import libraries\n",
      "import pandas as pd\n",
      "import matplotlib as mp\n",
      "import matplotlib.pyplot as plt\n",
      "import pylab as pl\n",
      "import pickle\n",
      "import xlrd"
     ],
     "language": "python",
     "metadata": {},
     "outputs": [
      {
       "output_type": "stream",
       "stream": "stdout",
       "text": [
        "Populating the interactive namespace from numpy and matplotlib\n"
       ]
      },
      {
       "output_type": "stream",
       "stream": "stderr",
       "text": [
        "WARNING: pylab import has clobbered these variables: ['colors']\n",
        "`%matplotlib` prevents importing * from pylab and numpy\n"
       ]
      }
     ],
     "prompt_number": 36
    },
    {
     "cell_type": "markdown",
     "metadata": {},
     "source": [
      "# Import data from csv file and data set to pandas."
     ]
    },
    {
     "cell_type": "code",
     "collapsed": false,
     "input": [
      "olympics = pd.read_csv('Data/OlympicAthletes.csv', header=0, names=['Athlete','Age','Country','Year','Closing_Date','Sport','Gold','Silver','Bronze','Total'])"
     ],
     "language": "python",
     "metadata": {},
     "outputs": [],
     "prompt_number": 37
    },
    {
     "cell_type": "markdown",
     "metadata": {},
     "source": [
      "# Reshape Date Data from 1904 Date System"
     ]
    },
    {
     "cell_type": "code",
     "collapsed": false,
     "input": [
      "olympics.head()"
     ],
     "language": "python",
     "metadata": {},
     "outputs": [
      {
       "html": [
        "<div style=\"max-height:1000px;max-width:1500px;overflow:auto;\">\n",
        "<table border=\"1\" class=\"dataframe\">\n",
        "  <thead>\n",
        "    <tr style=\"text-align: right;\">\n",
        "      <th></th>\n",
        "      <th>Athlete</th>\n",
        "      <th>Age</th>\n",
        "      <th>Country</th>\n",
        "      <th>Year</th>\n",
        "      <th>Closing_Date</th>\n",
        "      <th>Sport</th>\n",
        "      <th>Gold</th>\n",
        "      <th>Silver</th>\n",
        "      <th>Bronze</th>\n",
        "      <th>Total</th>\n",
        "    </tr>\n",
        "  </thead>\n",
        "  <tbody>\n",
        "    <tr>\n",
        "      <th>0</th>\n",
        "      <td>   Michael Phelps</td>\n",
        "      <td> 23</td>\n",
        "      <td> United States</td>\n",
        "      <td> 2008</td>\n",
        "      <td> 39684</td>\n",
        "      <td>   Swimming</td>\n",
        "      <td> 8</td>\n",
        "      <td> 0</td>\n",
        "      <td> 0</td>\n",
        "      <td> 8</td>\n",
        "    </tr>\n",
        "    <tr>\n",
        "      <th>1</th>\n",
        "      <td>   Michael Phelps</td>\n",
        "      <td> 19</td>\n",
        "      <td> United States</td>\n",
        "      <td> 2004</td>\n",
        "      <td> 38228</td>\n",
        "      <td>   Swimming</td>\n",
        "      <td> 6</td>\n",
        "      <td> 0</td>\n",
        "      <td> 2</td>\n",
        "      <td> 8</td>\n",
        "    </tr>\n",
        "    <tr>\n",
        "      <th>2</th>\n",
        "      <td>   Michael Phelps</td>\n",
        "      <td> 27</td>\n",
        "      <td> United States</td>\n",
        "      <td> 2012</td>\n",
        "      <td> 41133</td>\n",
        "      <td>   Swimming</td>\n",
        "      <td> 4</td>\n",
        "      <td> 2</td>\n",
        "      <td> 0</td>\n",
        "      <td> 6</td>\n",
        "    </tr>\n",
        "    <tr>\n",
        "      <th>3</th>\n",
        "      <td> Natalie Coughlin</td>\n",
        "      <td> 25</td>\n",
        "      <td> United States</td>\n",
        "      <td> 2008</td>\n",
        "      <td> 39684</td>\n",
        "      <td>   Swimming</td>\n",
        "      <td> 1</td>\n",
        "      <td> 2</td>\n",
        "      <td> 3</td>\n",
        "      <td> 6</td>\n",
        "    </tr>\n",
        "    <tr>\n",
        "      <th>4</th>\n",
        "      <td>    Aleksey Nemov</td>\n",
        "      <td> 24</td>\n",
        "      <td>        Russia</td>\n",
        "      <td> 2000</td>\n",
        "      <td> 36800</td>\n",
        "      <td> Gymnastics</td>\n",
        "      <td> 2</td>\n",
        "      <td> 1</td>\n",
        "      <td> 3</td>\n",
        "      <td> 6</td>\n",
        "    </tr>\n",
        "  </tbody>\n",
        "</table>\n",
        "</div>"
       ],
       "metadata": {},
       "output_type": "pyout",
       "prompt_number": 38,
       "text": [
        "            Athlete  Age        Country  Year  Closing_Date       Sport  Gold  \\\n",
        "0    Michael Phelps   23  United States  2008         39684    Swimming     8   \n",
        "1    Michael Phelps   19  United States  2004         38228    Swimming     6   \n",
        "2    Michael Phelps   27  United States  2012         41133    Swimming     4   \n",
        "3  Natalie Coughlin   25  United States  2008         39684    Swimming     1   \n",
        "4     Aleksey Nemov   24         Russia  2000         36800  Gymnastics     2   \n",
        "\n",
        "   Silver  Bronze  Total  \n",
        "0       0       0      8  \n",
        "1       0       2      8  \n",
        "2       2       0      6  \n",
        "3       2       3      6  \n",
        "4       1       3      6  "
       ]
      }
     ],
     "prompt_number": 38
    },
    {
     "cell_type": "markdown",
     "metadata": {},
     "source": [
      "#### Looking at the head of the data set we can see the Closing_Date variable is not a proper date"
     ]
    },
    {
     "cell_type": "markdown",
     "metadata": {},
     "source": [
      "#### The Macintosh default 1904-based date system counts 1904-01-02 as day one and 1904-01-01 as day zero. To clean up the data, we must convert each of the values in 'Closing Ceremony Date' to a relevant python datetime object"
     ]
    },
    {
     "cell_type": "code",
     "collapsed": false,
     "input": [
      "# get the Closing Ceremony Dates variable from the data\n",
      "closing_dates = olympics['Closing_Date']\n",
      "\n",
      "# create a list for holding the new date values\n",
      "closing_dates_fix = []\n",
      "\n",
      "# convert each 1904-based date to a datetime object and store it in closing_dates_fix\n",
      "for i in range(0, len(closing_dates)):\n",
      "    t = xlrd.xldate_as_tuple(olympics['Closing_Date'][i], 0)\n",
      "    closing_dates_fix.append(datetime.date(t[0], t[1], t[2]))\n",
      "    \n",
      "# replaces the values in the DataFrame\n",
      "olympics['Closing_Date'] = closing_dates_fix"
     ],
     "language": "python",
     "metadata": {},
     "outputs": [],
     "prompt_number": 39
    },
    {
     "cell_type": "markdown",
     "metadata": {},
     "source": [
      "#### Here we can verify that the Closing Ceremony Date data has been formatted correctly"
     ]
    },
    {
     "cell_type": "code",
     "collapsed": false,
     "input": [
      "olympics.head()"
     ],
     "language": "python",
     "metadata": {},
     "outputs": [
      {
       "html": [
        "<div style=\"max-height:1000px;max-width:1500px;overflow:auto;\">\n",
        "<table border=\"1\" class=\"dataframe\">\n",
        "  <thead>\n",
        "    <tr style=\"text-align: right;\">\n",
        "      <th></th>\n",
        "      <th>Athlete</th>\n",
        "      <th>Age</th>\n",
        "      <th>Country</th>\n",
        "      <th>Year</th>\n",
        "      <th>Closing_Date</th>\n",
        "      <th>Sport</th>\n",
        "      <th>Gold</th>\n",
        "      <th>Silver</th>\n",
        "      <th>Bronze</th>\n",
        "      <th>Total</th>\n",
        "    </tr>\n",
        "  </thead>\n",
        "  <tbody>\n",
        "    <tr>\n",
        "      <th>0</th>\n",
        "      <td>   Michael Phelps</td>\n",
        "      <td> 23</td>\n",
        "      <td> United States</td>\n",
        "      <td> 2008</td>\n",
        "      <td> 2008-08-24</td>\n",
        "      <td>   Swimming</td>\n",
        "      <td> 8</td>\n",
        "      <td> 0</td>\n",
        "      <td> 0</td>\n",
        "      <td> 8</td>\n",
        "    </tr>\n",
        "    <tr>\n",
        "      <th>1</th>\n",
        "      <td>   Michael Phelps</td>\n",
        "      <td> 19</td>\n",
        "      <td> United States</td>\n",
        "      <td> 2004</td>\n",
        "      <td> 2004-08-29</td>\n",
        "      <td>   Swimming</td>\n",
        "      <td> 6</td>\n",
        "      <td> 0</td>\n",
        "      <td> 2</td>\n",
        "      <td> 8</td>\n",
        "    </tr>\n",
        "    <tr>\n",
        "      <th>2</th>\n",
        "      <td>   Michael Phelps</td>\n",
        "      <td> 27</td>\n",
        "      <td> United States</td>\n",
        "      <td> 2012</td>\n",
        "      <td> 2012-08-12</td>\n",
        "      <td>   Swimming</td>\n",
        "      <td> 4</td>\n",
        "      <td> 2</td>\n",
        "      <td> 0</td>\n",
        "      <td> 6</td>\n",
        "    </tr>\n",
        "    <tr>\n",
        "      <th>3</th>\n",
        "      <td> Natalie Coughlin</td>\n",
        "      <td> 25</td>\n",
        "      <td> United States</td>\n",
        "      <td> 2008</td>\n",
        "      <td> 2008-08-24</td>\n",
        "      <td>   Swimming</td>\n",
        "      <td> 1</td>\n",
        "      <td> 2</td>\n",
        "      <td> 3</td>\n",
        "      <td> 6</td>\n",
        "    </tr>\n",
        "    <tr>\n",
        "      <th>4</th>\n",
        "      <td>    Aleksey Nemov</td>\n",
        "      <td> 24</td>\n",
        "      <td>        Russia</td>\n",
        "      <td> 2000</td>\n",
        "      <td> 2000-10-01</td>\n",
        "      <td> Gymnastics</td>\n",
        "      <td> 2</td>\n",
        "      <td> 1</td>\n",
        "      <td> 3</td>\n",
        "      <td> 6</td>\n",
        "    </tr>\n",
        "  </tbody>\n",
        "</table>\n",
        "</div>"
       ],
       "metadata": {},
       "output_type": "pyout",
       "prompt_number": 40,
       "text": [
        "            Athlete  Age        Country  Year Closing_Date       Sport  Gold  \\\n",
        "0    Michael Phelps   23  United States  2008   2008-08-24    Swimming     8   \n",
        "1    Michael Phelps   19  United States  2004   2004-08-29    Swimming     6   \n",
        "2    Michael Phelps   27  United States  2012   2012-08-12    Swimming     4   \n",
        "3  Natalie Coughlin   25  United States  2008   2008-08-24    Swimming     1   \n",
        "4     Aleksey Nemov   24         Russia  2000   2000-10-01  Gymnastics     2   \n",
        "\n",
        "   Silver  Bronze  Total  \n",
        "0       0       0      8  \n",
        "1       0       2      8  \n",
        "2       2       0      6  \n",
        "3       2       3      6  \n",
        "4       1       3      6  "
       ]
      }
     ],
     "prompt_number": 40
    },
    {
     "cell_type": "markdown",
     "metadata": {},
     "source": [
      "# Handle Missing Values"
     ]
    },
    {
     "cell_type": "markdown",
     "metadata": {},
     "source": [
      "#### Looking at the data we see there are some NaN values in the Age variable"
     ]
    },
    {
     "cell_type": "code",
     "collapsed": false,
     "input": [
      "np.count_nonzero(np.isnan(olympics['Age']))"
     ],
     "language": "python",
     "metadata": {},
     "outputs": [
      {
       "metadata": {},
       "output_type": "pyout",
       "prompt_number": 41,
       "text": [
        "5"
       ]
      }
     ],
     "prompt_number": 41
    },
    {
     "cell_type": "markdown",
     "metadata": {},
     "source": [
      "#### Replace missing age variable with the mean and store it in a new variable 'NewAge'"
     ]
    },
    {
     "cell_type": "code",
     "collapsed": false,
     "input": [
      "olympics['NewAge'] = olympics['Age'].replace(np.nan, mean(olympics['Age']))"
     ],
     "language": "python",
     "metadata": {},
     "outputs": [],
     "prompt_number": 42
    },
    {
     "cell_type": "markdown",
     "metadata": {},
     "source": [
      "#### next we can verify that the variable NewAge has no NaN values"
     ]
    },
    {
     "cell_type": "code",
     "collapsed": false,
     "input": [
      "np.count_nonzero(np.isnan(olympics['NewAge']))"
     ],
     "language": "python",
     "metadata": {},
     "outputs": [
      {
       "metadata": {},
       "output_type": "pyout",
       "prompt_number": 43,
       "text": [
        "0"
       ]
      }
     ],
     "prompt_number": 43
    },
    {
     "cell_type": "markdown",
     "metadata": {},
     "source": [
      "#### Looking at the data we see there are some Null values in the Athlete variable"
     ]
    },
    {
     "cell_type": "code",
     "collapsed": false,
     "input": [
      "np.count_nonzero(pd.isnull(olympics['Athlete']))"
     ],
     "language": "python",
     "metadata": {},
     "outputs": [
      {
       "metadata": {},
       "output_type": "pyout",
       "prompt_number": 44,
       "text": [
        "5"
       ]
      }
     ],
     "prompt_number": 44
    },
    {
     "cell_type": "markdown",
     "metadata": {},
     "source": [
      "#### Replace blank Athlete fields with \"Missing\" in a new variable 'NewAthlete'"
     ]
    },
    {
     "cell_type": "code",
     "collapsed": false,
     "input": [
      "olympics['NewAthlete'] = olympics['Athlete'].replace(np.nan, \"Missing\")"
     ],
     "language": "python",
     "metadata": {},
     "outputs": [],
     "prompt_number": 45
    },
    {
     "cell_type": "markdown",
     "metadata": {},
     "source": [
      "#### next we can verify that the variable NewAthlete has no Null values"
     ]
    },
    {
     "cell_type": "code",
     "collapsed": false,
     "input": [
      "np.count_nonzero(pd.isnull(olympics['NewAthlete']))"
     ],
     "language": "python",
     "metadata": {},
     "outputs": [
      {
       "metadata": {},
       "output_type": "pyout",
       "prompt_number": 46,
       "text": [
        "0"
       ]
      }
     ],
     "prompt_number": 46
    },
    {
     "cell_type": "markdown",
     "metadata": {},
     "source": [
      "# Save the reshaped data as a pickle"
     ]
    },
    {
     "cell_type": "code",
     "collapsed": false,
     "input": [
      "olympics.to_pickle('Pickle/OlympicsPickle')"
     ],
     "language": "python",
     "metadata": {},
     "outputs": [],
     "prompt_number": 47
    },
    {
     "cell_type": "markdown",
     "metadata": {},
     "source": [
      "# Look at numerical summaries for variables"
     ]
    },
    {
     "cell_type": "code",
     "collapsed": false,
     "input": [
      "olympics.describe()"
     ],
     "language": "python",
     "metadata": {},
     "outputs": [
      {
       "html": [
        "<div style=\"max-height:1000px;max-width:1500px;overflow:auto;\">\n",
        "<table border=\"1\" class=\"dataframe\">\n",
        "  <thead>\n",
        "    <tr style=\"text-align: right;\">\n",
        "      <th></th>\n",
        "      <th>Age</th>\n",
        "      <th>Year</th>\n",
        "      <th>Gold</th>\n",
        "      <th>Silver</th>\n",
        "      <th>Bronze</th>\n",
        "      <th>Total</th>\n",
        "      <th>NewAge</th>\n",
        "    </tr>\n",
        "  </thead>\n",
        "  <tbody>\n",
        "    <tr>\n",
        "      <th>count</th>\n",
        "      <td> 8613.000000</td>\n",
        "      <td> 8618.000000</td>\n",
        "      <td> 8618.000000</td>\n",
        "      <td> 8618.000000</td>\n",
        "      <td> 8618.000000</td>\n",
        "      <td> 8618.000000</td>\n",
        "      <td> 8618.000000</td>\n",
        "    </tr>\n",
        "    <tr>\n",
        "      <th>mean</th>\n",
        "      <td>   26.405434</td>\n",
        "      <td> 2005.978881</td>\n",
        "      <td>    0.364702</td>\n",
        "      <td>    0.363309</td>\n",
        "      <td>    0.377698</td>\n",
        "      <td>    1.105709</td>\n",
        "      <td>   26.405434</td>\n",
        "    </tr>\n",
        "    <tr>\n",
        "      <th>std</th>\n",
        "      <td>    5.102118</td>\n",
        "      <td>    4.289946</td>\n",
        "      <td>    0.545349</td>\n",
        "      <td>    0.511613</td>\n",
        "      <td>    0.505005</td>\n",
        "      <td>    0.408892</td>\n",
        "      <td>    5.100638</td>\n",
        "    </tr>\n",
        "    <tr>\n",
        "      <th>min</th>\n",
        "      <td>   15.000000</td>\n",
        "      <td> 2000.000000</td>\n",
        "      <td>    0.000000</td>\n",
        "      <td>    0.000000</td>\n",
        "      <td>    0.000000</td>\n",
        "      <td>    1.000000</td>\n",
        "      <td>   15.000000</td>\n",
        "    </tr>\n",
        "    <tr>\n",
        "      <th>25%</th>\n",
        "      <td>   23.000000</td>\n",
        "      <td> 2002.000000</td>\n",
        "      <td>    0.000000</td>\n",
        "      <td>    0.000000</td>\n",
        "      <td>    0.000000</td>\n",
        "      <td>    1.000000</td>\n",
        "      <td>   23.000000</td>\n",
        "    </tr>\n",
        "    <tr>\n",
        "      <th>50%</th>\n",
        "      <td>   26.000000</td>\n",
        "      <td> 2006.000000</td>\n",
        "      <td>    0.000000</td>\n",
        "      <td>    0.000000</td>\n",
        "      <td>    0.000000</td>\n",
        "      <td>    1.000000</td>\n",
        "      <td>   26.000000</td>\n",
        "    </tr>\n",
        "    <tr>\n",
        "      <th>75%</th>\n",
        "      <td>   29.000000</td>\n",
        "      <td> 2010.000000</td>\n",
        "      <td>    1.000000</td>\n",
        "      <td>    1.000000</td>\n",
        "      <td>    1.000000</td>\n",
        "      <td>    1.000000</td>\n",
        "      <td>   29.000000</td>\n",
        "    </tr>\n",
        "    <tr>\n",
        "      <th>max</th>\n",
        "      <td>   61.000000</td>\n",
        "      <td> 2012.000000</td>\n",
        "      <td>    8.000000</td>\n",
        "      <td>    3.000000</td>\n",
        "      <td>    3.000000</td>\n",
        "      <td>    8.000000</td>\n",
        "      <td>   61.000000</td>\n",
        "    </tr>\n",
        "  </tbody>\n",
        "</table>\n",
        "</div>"
       ],
       "metadata": {},
       "output_type": "pyout",
       "prompt_number": 48,
       "text": [
        "               Age         Year         Gold       Silver       Bronze  \\\n",
        "count  8613.000000  8618.000000  8618.000000  8618.000000  8618.000000   \n",
        "mean     26.405434  2005.978881     0.364702     0.363309     0.377698   \n",
        "std       5.102118     4.289946     0.545349     0.511613     0.505005   \n",
        "min      15.000000  2000.000000     0.000000     0.000000     0.000000   \n",
        "25%      23.000000  2002.000000     0.000000     0.000000     0.000000   \n",
        "50%      26.000000  2006.000000     0.000000     0.000000     0.000000   \n",
        "75%      29.000000  2010.000000     1.000000     1.000000     1.000000   \n",
        "max      61.000000  2012.000000     8.000000     3.000000     3.000000   \n",
        "\n",
        "             Total       NewAge  \n",
        "count  8618.000000  8618.000000  \n",
        "mean      1.105709    26.405434  \n",
        "std       0.408892     5.100638  \n",
        "min       1.000000    15.000000  \n",
        "25%       1.000000    23.000000  \n",
        "50%       1.000000    26.000000  \n",
        "75%       1.000000    29.000000  \n",
        "max       8.000000    61.000000  "
       ]
      }
     ],
     "prompt_number": 48
    },
    {
     "cell_type": "markdown",
     "metadata": {},
     "source": [
      "#### We can gather some interesting information by looking at the numerical summaries\n",
      "* There are a total of 8,613 occurences in the data set\n",
      "* We see that the data spans from the year 2000 to the year 2012\n",
      "    * **Gold Medals:** \n",
      "        * mean of 0.36\n",
      "        * standard deviation of 0.54\n",
      "        * 75% of the occurances have only 1 gold medal\n",
      "        * there is at least one occurance of 8 gold medals \n",
      "    * **Silver Medals:**\n",
      "        * mean of 0.36\n",
      "        * standard deviation of 0.51\n",
      "        * 75% of the occurances have only 1 silver medal\n",
      "        * there is at least one occurance of 3 silver medals\n",
      "    * **Bronze Medals:**\n",
      "        * mean of 0.38\n",
      "        * standard deviation of 0.51\n",
      "        * 75% of the occurances have only 1 bronze medal\n",
      "        * there is at least one occurance of 3 bronze medals\n",
      "    * **Total Medals**\n",
      "        * mean of 1.11\n",
      "        * standard deviation of 0.41\n",
      "        * minimum of 1 : all occurances have at least 1 medal\n",
      "        * lower, middle and upper quartile all have 1 medal\n",
      "        * there is at least one occurance of 8 total medals\n",
      "    * **Age:**\n",
      "        * first we see very little difference between the original Age and NewAge variables\n",
      "        * this tells us our decision to replace missing Age data with the mean was probably a good one\n",
      "        * mean of 26.4\n",
      "        * standard deviation of 5.10\n",
      "        * min:15 -> 25%:[23] -> 50%[26] -> 75%[29] -> max:61"
     ]
    },
    {
     "cell_type": "markdown",
     "metadata": {},
     "source": [
      "#### Examine the summary of categorical variables"
     ]
    },
    {
     "cell_type": "code",
     "collapsed": false,
     "input": [
      "olympics.head(10)    # printing the top 10 occurences; sorted by total medals 'descending'"
     ],
     "language": "python",
     "metadata": {},
     "outputs": [
      {
       "html": [
        "<div style=\"max-height:1000px;max-width:1500px;overflow:auto;\">\n",
        "<table border=\"1\" class=\"dataframe\">\n",
        "  <thead>\n",
        "    <tr style=\"text-align: right;\">\n",
        "      <th></th>\n",
        "      <th>Athlete</th>\n",
        "      <th>Age</th>\n",
        "      <th>Country</th>\n",
        "      <th>Year</th>\n",
        "      <th>Closing_Date</th>\n",
        "      <th>Sport</th>\n",
        "      <th>Gold</th>\n",
        "      <th>Silver</th>\n",
        "      <th>Bronze</th>\n",
        "      <th>Total</th>\n",
        "      <th>NewAge</th>\n",
        "      <th>NewAthlete</th>\n",
        "    </tr>\n",
        "  </thead>\n",
        "  <tbody>\n",
        "    <tr>\n",
        "      <th>0</th>\n",
        "      <td>   Michael Phelps</td>\n",
        "      <td> 23</td>\n",
        "      <td> United States</td>\n",
        "      <td> 2008</td>\n",
        "      <td> 2008-08-24</td>\n",
        "      <td>   Swimming</td>\n",
        "      <td> 8</td>\n",
        "      <td> 0</td>\n",
        "      <td> 0</td>\n",
        "      <td> 8</td>\n",
        "      <td> 23</td>\n",
        "      <td>   Michael Phelps</td>\n",
        "    </tr>\n",
        "    <tr>\n",
        "      <th>1</th>\n",
        "      <td>   Michael Phelps</td>\n",
        "      <td> 19</td>\n",
        "      <td> United States</td>\n",
        "      <td> 2004</td>\n",
        "      <td> 2004-08-29</td>\n",
        "      <td>   Swimming</td>\n",
        "      <td> 6</td>\n",
        "      <td> 0</td>\n",
        "      <td> 2</td>\n",
        "      <td> 8</td>\n",
        "      <td> 19</td>\n",
        "      <td>   Michael Phelps</td>\n",
        "    </tr>\n",
        "    <tr>\n",
        "      <th>2</th>\n",
        "      <td>   Michael Phelps</td>\n",
        "      <td> 27</td>\n",
        "      <td> United States</td>\n",
        "      <td> 2012</td>\n",
        "      <td> 2012-08-12</td>\n",
        "      <td>   Swimming</td>\n",
        "      <td> 4</td>\n",
        "      <td> 2</td>\n",
        "      <td> 0</td>\n",
        "      <td> 6</td>\n",
        "      <td> 27</td>\n",
        "      <td>   Michael Phelps</td>\n",
        "    </tr>\n",
        "    <tr>\n",
        "      <th>3</th>\n",
        "      <td> Natalie Coughlin</td>\n",
        "      <td> 25</td>\n",
        "      <td> United States</td>\n",
        "      <td> 2008</td>\n",
        "      <td> 2008-08-24</td>\n",
        "      <td>   Swimming</td>\n",
        "      <td> 1</td>\n",
        "      <td> 2</td>\n",
        "      <td> 3</td>\n",
        "      <td> 6</td>\n",
        "      <td> 25</td>\n",
        "      <td> Natalie Coughlin</td>\n",
        "    </tr>\n",
        "    <tr>\n",
        "      <th>4</th>\n",
        "      <td>    Aleksey Nemov</td>\n",
        "      <td> 24</td>\n",
        "      <td>        Russia</td>\n",
        "      <td> 2000</td>\n",
        "      <td> 2000-10-01</td>\n",
        "      <td> Gymnastics</td>\n",
        "      <td> 2</td>\n",
        "      <td> 1</td>\n",
        "      <td> 3</td>\n",
        "      <td> 6</td>\n",
        "      <td> 24</td>\n",
        "      <td>    Aleksey Nemov</td>\n",
        "    </tr>\n",
        "    <tr>\n",
        "      <th>5</th>\n",
        "      <td>    Alicia Coutts</td>\n",
        "      <td> 24</td>\n",
        "      <td>     Australia</td>\n",
        "      <td> 2012</td>\n",
        "      <td> 2012-08-12</td>\n",
        "      <td>   Swimming</td>\n",
        "      <td> 1</td>\n",
        "      <td> 3</td>\n",
        "      <td> 1</td>\n",
        "      <td> 5</td>\n",
        "      <td> 24</td>\n",
        "      <td>    Alicia Coutts</td>\n",
        "    </tr>\n",
        "    <tr>\n",
        "      <th>6</th>\n",
        "      <td>   Missy Franklin</td>\n",
        "      <td> 17</td>\n",
        "      <td> United States</td>\n",
        "      <td> 2012</td>\n",
        "      <td> 2012-08-12</td>\n",
        "      <td>   Swimming</td>\n",
        "      <td> 4</td>\n",
        "      <td> 0</td>\n",
        "      <td> 1</td>\n",
        "      <td> 5</td>\n",
        "      <td> 17</td>\n",
        "      <td>   Missy Franklin</td>\n",
        "    </tr>\n",
        "    <tr>\n",
        "      <th>7</th>\n",
        "      <td>      Ryan Lochte</td>\n",
        "      <td> 27</td>\n",
        "      <td> United States</td>\n",
        "      <td> 2012</td>\n",
        "      <td> 2012-08-12</td>\n",
        "      <td>   Swimming</td>\n",
        "      <td> 2</td>\n",
        "      <td> 2</td>\n",
        "      <td> 1</td>\n",
        "      <td> 5</td>\n",
        "      <td> 27</td>\n",
        "      <td>      Ryan Lochte</td>\n",
        "    </tr>\n",
        "    <tr>\n",
        "      <th>8</th>\n",
        "      <td>  Allison Schmitt</td>\n",
        "      <td> 22</td>\n",
        "      <td> United States</td>\n",
        "      <td> 2012</td>\n",
        "      <td> 2012-08-12</td>\n",
        "      <td>   Swimming</td>\n",
        "      <td> 3</td>\n",
        "      <td> 1</td>\n",
        "      <td> 1</td>\n",
        "      <td> 5</td>\n",
        "      <td> 22</td>\n",
        "      <td>  Allison Schmitt</td>\n",
        "    </tr>\n",
        "    <tr>\n",
        "      <th>9</th>\n",
        "      <td> Natalie Coughlin</td>\n",
        "      <td> 21</td>\n",
        "      <td> United States</td>\n",
        "      <td> 2004</td>\n",
        "      <td> 2004-08-29</td>\n",
        "      <td>   Swimming</td>\n",
        "      <td> 2</td>\n",
        "      <td> 2</td>\n",
        "      <td> 1</td>\n",
        "      <td> 5</td>\n",
        "      <td> 21</td>\n",
        "      <td> Natalie Coughlin</td>\n",
        "    </tr>\n",
        "  </tbody>\n",
        "</table>\n",
        "</div>"
       ],
       "metadata": {},
       "output_type": "pyout",
       "prompt_number": 49,
       "text": [
        "            Athlete  Age        Country  Year Closing_Date       Sport  Gold  \\\n",
        "0    Michael Phelps   23  United States  2008   2008-08-24    Swimming     8   \n",
        "1    Michael Phelps   19  United States  2004   2004-08-29    Swimming     6   \n",
        "2    Michael Phelps   27  United States  2012   2012-08-12    Swimming     4   \n",
        "3  Natalie Coughlin   25  United States  2008   2008-08-24    Swimming     1   \n",
        "4     Aleksey Nemov   24         Russia  2000   2000-10-01  Gymnastics     2   \n",
        "5     Alicia Coutts   24      Australia  2012   2012-08-12    Swimming     1   \n",
        "6    Missy Franklin   17  United States  2012   2012-08-12    Swimming     4   \n",
        "7       Ryan Lochte   27  United States  2012   2012-08-12    Swimming     2   \n",
        "8   Allison Schmitt   22  United States  2012   2012-08-12    Swimming     3   \n",
        "9  Natalie Coughlin   21  United States  2004   2004-08-29    Swimming     2   \n",
        "\n",
        "   Silver  Bronze  Total  NewAge        NewAthlete  \n",
        "0       0       0      8      23    Michael Phelps  \n",
        "1       0       2      8      19    Michael Phelps  \n",
        "2       2       0      6      27    Michael Phelps  \n",
        "3       2       3      6      25  Natalie Coughlin  \n",
        "4       1       3      6      24     Aleksey Nemov  \n",
        "5       3       1      5      24     Alicia Coutts  \n",
        "6       0       1      5      17    Missy Franklin  \n",
        "7       2       1      5      27       Ryan Lochte  \n",
        "8       1       1      5      22   Allison Schmitt  \n",
        "9       2       1      5      21  Natalie Coughlin  "
       ]
      }
     ],
     "prompt_number": 49
    },
    {
     "cell_type": "markdown",
     "metadata": {},
     "source": [
      "#### Looking at the head of the data again, we can examine the categorical variables 'Athlete', 'Country' and 'Sport'\n",
      "* **Athlete:**    \n",
      "    * the top three occurances are \"Michael Phelps\" based on the descending order of the 'Total Medals' variable.\n",
      "    * we see Michael Phelps topped the chart in 2004, 2008 and 2012 with 6, 8, and 8 total medals\n",
      "* **Country:**\n",
      "    * the United States in 8 of the top 10 spots\n",
      "    * Russia is in the 4th occurence with 6 total medals for athlete Aleksey Nemov in the sport of Gymnastics\n",
      "    * Australia in slot 5 with athlete Alicia Coutts with 5 total medals in the sport of Swimming\n",
      "* **Sport**\n",
      "    * swimming appears to dominate the top of the total medals with 9/10 occurences\n",
      "    * only one instance of the sport 'Gymnastics' in the top 10 occurences"
     ]
    },
    {
     "cell_type": "markdown",
     "metadata": {},
     "source": [
      "# Visualizing the data"
     ]
    },
    {
     "cell_type": "markdown",
     "metadata": {},
     "source": [
      "### Visualize the ages of the Olympic Athletes using a Histogram Plot"
     ]
    },
    {
     "cell_type": "markdown",
     "metadata": {},
     "source": [
      "note: this histogram is working with the NewAge variable where we replaced missing data with the mean in 5 occrurences"
     ]
    },
    {
     "cell_type": "code",
     "collapsed": false,
     "input": [
      "pl.xlabel(\"NewAge\")\n",
      "pl.ylabel(\"Occurances\")\n",
      "pl.title(\"Olympic Athlete (New)Ages: Histogram\")\n",
      "pl.hist(olympics['NewAge'], bins=90)\n",
      "pl.show()"
     ],
     "language": "python",
     "metadata": {},
     "outputs": [
      {
       "metadata": {},
       "output_type": "display_data",
       "png": "[encoded data removed]",
       "text": [
        "<matplotlib.figure.Figure at 0x10db62090>"
       ]
      }
     ],
     "prompt_number": 50
    },
    {
     "cell_type": "markdown",
     "metadata": {},
     "source": [
      "### Get the top 5 countries with the most total medals"
     ]
    },
    {
     "cell_type": "code",
     "collapsed": false,
     "input": [
      "GroupByTotal = olympics.groupby('Country').Total.sum()\n",
      "GroupByTotal.sort(ascending=False)\n",
      "Top5 = GroupByTotal.head(5)\n",
      "Top5"
     ],
     "language": "python",
     "metadata": {},
     "outputs": [
      {
       "metadata": {},
       "output_type": "pyout",
       "prompt_number": 51,
       "text": [
        "Country\n",
        "United States    1312\n",
        "Russia            768\n",
        "Germany           629\n",
        "Australia         609\n",
        "China             530\n",
        "Name: Total, dtype: int64"
       ]
      }
     ],
     "prompt_number": 51
    },
    {
     "cell_type": "markdown",
     "metadata": {},
     "source": [
      "### Visualize the medals won by the Top 5 countries using a Bar Chart"
     ]
    },
    {
     "cell_type": "code",
     "collapsed": false,
     "input": [
      "# get a set of booleans for all the different medals \n",
      "bronze = olympics['Bronze'] >= 1\n",
      "silver = olympics['Silver'] >= 1\n",
      "gold   = olympics['Gold']   >= 1\n",
      "\n",
      "\n",
      "# get a set booleans for all the countrys in question\n",
      "usa          = olympics.Country == \"United States\"\n",
      "russia       = olympics.Country == \"Russia\"\n",
      "germany      = olympics.Country == \"China\"\n",
      "australia    = olympics.Country == \"Australia\"\n",
      "china        = olympics.Country == \"Germany\"\n",
      "\n",
      "\n",
      "# get counts for each countries bronze medals\n",
      "usaBronze          = len(olympics[usa & bronze])\n",
      "russiaBronze       = len(olympics[russia & bronze])\n",
      "germanyBronze      = len(olympics[germany & bronze])\n",
      "australiaBronze    = len(olympics[australia & bronze])\n",
      "chinaBronze        = len(olympics[china & bronze])\n",
      "\n",
      "\n",
      "# get counts for each countries silver medals\n",
      "usaSilver          = len(olympics[usa & silver])\n",
      "russiaSilver       = len(olympics[russia & silver])\n",
      "germanySilver      = len(olympics[germany & silver])\n",
      "australiaSilver    = len(olympics[australia & silver])\n",
      "chinaSilver        = len(olympics[china & silver])\n",
      "\n",
      "# get counts for each countries gold medals\n",
      "usaGold            = len(olympics[usa & gold])\n",
      "russiaGold         = len(olympics[russia & gold])\n",
      "germanyGold        = len(olympics[germany & gold])\n",
      "australiaGold      = len(olympics[australia & gold])\n",
      "chinaGold          = len(olympics[china & gold])\n",
      "\n",
      "# create a dictionary <K, V> 'Country Name' : Number of Medals\n",
      "bronzeCountries = {'USA' : usaBronze, 'Russia': russiaBronze, 'Germany': germanyBronze, \n",
      "                   'Australia': australiaBronze, 'China': chinaBronze}\n",
      "\n",
      "silverCountries = {'USA' : usaSilver, 'Russia': russiaSilver, 'Germany': germanySilver, \n",
      "                   'Australia': australiaSilver, 'China': chinaSilver}\n",
      "\n",
      "goldCountries   = {'USA' : usaGold, 'Russia': russiaGold, 'Germany': germanyGold, \n",
      "                   'Australia': australiaGold, 'China': chinaGold}\n",
      "\n",
      "# build a pandas DataFrame\n",
      "countryDF = pd.DataFrame.from_dict([bronzeCountries, silverCountries, goldCountries])\n",
      "countryDF = pd.DataFrame(countryDF.transpose())\n",
      "countryDF.columns = ['Bronze', 'Silver', 'Gold']\n",
      "\n",
      "# plot the DataFrame as a bar chart comparing countries and their medal counts\n",
      "colors = ['orange', 'silver', 'gold']    # Set the colors of the bars to match the medal colors\n",
      "countryDF.plot(kind='bar', title=\"Total\", color=colors, grid=False)\n",
      "\n",
      "pl.show()"
     ],
     "language": "python",
     "metadata": {},
     "outputs": [
      {
       "metadata": {},
       "output_type": "display_data",
       "png": "[encoded data removed]",
       "text": [
        "<matplotlib.figure.Figure at 0x10db62690>"
       ]
      }
     ],
     "prompt_number": 52
    },
    {
     "cell_type": "markdown",
     "metadata": {},
     "source": [
      "####  Visualize those same 6 countries and the relative number of medals won, using a \"Horizontal Stacked Bar Chart\""
     ]
    },
    {
     "cell_type": "code",
     "collapsed": false,
     "input": [
      "# get the relative values of the Country Medals Data Frame, summing to 1\n",
      "countryRel = countryDF.div(countryDF.sum(1).astype(float), axis=0)\n",
      "\n",
      "# plot the relative values of the Country Medals as a bar chart\n",
      "colors = ['orange', 'silver', 'gold']\n",
      "countryRel.plot(kind='barh', stacked=True, title=\"Total Medals: Relative\", color=colors, grid=False)\n",
      "pl.show()"
     ],
     "language": "python",
     "metadata": {},
     "outputs": [
      {
       "metadata": {},
       "output_type": "display_data",
       "png": "[encoded data removed]",
       "text": [
        "<matplotlib.figure.Figure at 0x10da768d0>"
       ]
      }
     ],
     "prompt_number": 53
    },
    {
     "cell_type": "markdown",
     "metadata": {},
     "source": [
      "# Create a new boolean variable 'Old'"
     ]
    },
    {
     "cell_type": "markdown",
     "metadata": {},
     "source": [
      "#### This variable will be True of the Athlete is older than the mean age of all of the olympic athletes and will be False if the Athlete is at, or younger than the mean age."
     ]
    },
    {
     "cell_type": "code",
     "collapsed": false,
     "input": [
      "olympics['Old'] = olympics['NewAge'] > (mean(olympics['NewAge']))"
     ],
     "language": "python",
     "metadata": {},
     "outputs": [],
     "prompt_number": 54
    },
    {
     "cell_type": "markdown",
     "metadata": {},
     "source": [
      "#### Here we see that there are 3,881 \"Old\" Athletes out of 8,618 total (45%)"
     ]
    },
    {
     "cell_type": "code",
     "collapsed": false,
     "input": [
      "count_nonzero(olympics.Old)"
     ],
     "language": "python",
     "metadata": {},
     "outputs": [
      {
       "metadata": {},
       "output_type": "pyout",
       "prompt_number": 55,
       "text": [
        "3881"
       ]
      }
     ],
     "prompt_number": 55
    },
    {
     "cell_type": "markdown",
     "metadata": {},
     "source": [
      "#### We will use this variable to train a prediction model  "
     ]
    },
    {
     "cell_type": "markdown",
     "metadata": {},
     "source": [
      "# Extracting Training and Testing sets from the data"
     ]
    },
    {
     "cell_type": "markdown",
     "metadata": {},
     "source": [
      "#### Extract a training set of 50% and testing set of 50% of the data"
     ]
    },
    {
     "cell_type": "code",
     "collapsed": false,
     "input": [
      "# generate a random permutation the length of the data set\n",
      "randy = np.random.permutation(len(olympics))\n",
      "\n",
      "# take a random training set of 1/2 the size\n",
      "train = randy[0 : (len(randy)/2)]\n",
      "trainer = olympics.take(train)\n",
      "\n",
      "# take a remaining random set as the testing set\n",
      "test = randy[(len(randy)/2) : len(randy) + 1]\n",
      "tester = olympics.take(test)"
     ],
     "language": "python",
     "metadata": {},
     "outputs": [],
     "prompt_number": 56
    },
    {
     "cell_type": "markdown",
     "metadata": {},
     "source": [
      "#### we can assert that the training and testing data sets compose the entire data set"
     ]
    },
    {
     "cell_type": "code",
     "collapsed": false,
     "input": [
      "assert(len(trainer) + len(tester) == len(olympics))"
     ],
     "language": "python",
     "metadata": {},
     "outputs": [],
     "prompt_number": 57
    },
    {
     "cell_type": "markdown",
     "metadata": {},
     "source": [
      "#=================================================================="
     ]
    },
    {
     "cell_type": "markdown",
     "metadata": {},
     "source": [
      "# //TO-DO"
     ]
    },
    {
     "cell_type": "markdown",
     "metadata": {},
     "source": [
      "## print out a set of 4 bar charts (2x2) showing the distribution of Bronze, Silver, Gold and Total medals vs. age"
     ]
    },
    {
     "cell_type": "code",
     "collapsed": false,
     "input": [
      "fig, axes = plt.subplots(2, 2, figsize=(10, 8))"
     ],
     "language": "python",
     "metadata": {},
     "outputs": [
      {
       "metadata": {},
       "output_type": "display_data",
       "png": "[encoded data removed]",
       "text": [
        "<matplotlib.figure.Figure at 0x10ea69390>"
       ]
      }
     ],
     "prompt_number": 58
    },
    {
     "cell_type": "markdown",
     "metadata": {},
     "source": [
      "#=================================================================="
     ]
    },
    {
     "cell_type": "markdown",
     "metadata": {},
     "source": [
      "# //TO-DO"
     ]
    },
    {
     "cell_type": "markdown",
     "metadata": {},
     "source": [
      "## * run a logistic regression model on the data to predict the 'OLD' variable\n",
      "## * Dr. Roberts says we can use SciKit learn to do this\n",
      "#### https://scholar.vt.edu/access/content/group/8a25b3ef-3a80-4adf-bf81-1782e8d9c2e6/Python%20Resources/JumpStartScikitLearn.pdf"
     ]
    },
    {
     "cell_type": "markdown",
     "metadata": {},
     "source": [
      "### Import sklearn libraries"
     ]
    },
    {
     "cell_type": "code",
     "collapsed": false,
     "input": [
      "import sklearn\n",
      "from sklearn import datasets \n",
      "from sklearn import metrics\n",
      "from sklearn.linear_model import LogisticRegression\n",
      "from sklearn.cross_validation import train_test_split\n",
      "from sklearn.preprocessing import StandardScaler"
     ],
     "language": "python",
     "metadata": {},
     "outputs": [],
     "prompt_number": 80
    },
    {
     "cell_type": "markdown",
     "metadata": {},
     "source": [
      "### Get relevant data and split it into X and y arrays "
     ]
    },
    {
     "cell_type": "code",
     "collapsed": false,
     "input": [
      "X = array(olympics[['NewAthlete','Country', 'Year', 'Sport', 'Bronze', 'Silver', 'Gold', 'Total']])\n",
      "y = array(olympics['Old'])"
     ],
     "language": "python",
     "metadata": {},
     "outputs": [],
     "prompt_number": 72
    },
    {
     "cell_type": "markdown",
     "metadata": {},
     "source": [
      "### Retrieve unique names of categorical variables 'NewAthlete', 'Country' and 'Sports'\n",
      "#### This gives us an indexed array of categorical variables that we can use to map them to numerical values that can be used in the logistic regression model"
     ]
    },
    {
     "cell_type": "code",
     "collapsed": false,
     "input": [
      "athletes  = np.unique(X[:,0])\n",
      "countries = np.unique(X[:,1])\n",
      "sports    = np.unique(X[:,3])"
     ],
     "language": "python",
     "metadata": {},
     "outputs": [],
     "prompt_number": 89
    },
    {
     "cell_type": "markdown",
     "metadata": {},
     "source": [
      "# //TODO : We have to map the categorical values to numeric values for use in the logistic regression algorithm"
     ]
    },
    {
     "cell_type": "markdown",
     "metadata": {},
     "source": [
      "### Take a 75% training set and a 25% testing set using the scikit-learn capabilities"
     ]
    },
    {
     "cell_type": "code",
     "collapsed": false,
     "input": [
      "X_train, X_test, y_train, y_test = train_test_split(X, y, test_size=0.25, random_state=33)"
     ],
     "language": "python",
     "metadata": {},
     "outputs": [],
     "prompt_number": 76
    },
    {
     "cell_type": "markdown",
     "metadata": {},
     "source": [
      "### Scale the features so that they have comparable impact on the classification algorithm"
     ]
    },
    {
     "cell_type": "code",
     "collapsed": false,
     "input": [
      "scaler = StandardScaler().fit(X_train)\n",
      "X_train = scaler.transform(X_train)\n",
      "X_test = scaler.transform(X_test)"
     ],
     "language": "python",
     "metadata": {},
     "outputs": [
      {
       "ename": "ValueError",
       "evalue": "could not convert string to float: Boxing",
       "output_type": "pyerr",
       "traceback": [
        "\u001b[0;31m---------------------------------------------------------------------------\u001b[0m\n\u001b[0;31mValueError\u001b[0m                                Traceback (most recent call last)",
        "\u001b[0;32m<ipython-input-91-7fe169f0befb>\u001b[0m in \u001b[0;36m<module>\u001b[0;34m()\u001b[0m\n\u001b[0;32m----> 1\u001b[0;31m \u001b[0mscaler\u001b[0m \u001b[0;34m=\u001b[0m \u001b[0mStandardScaler\u001b[0m\u001b[0;34m(\u001b[0m\u001b[0;34m)\u001b[0m\u001b[0;34m.\u001b[0m\u001b[0mfit\u001b[0m\u001b[0;34m(\u001b[0m\u001b[0mX_train\u001b[0m\u001b[0;34m)\u001b[0m\u001b[0;34m\u001b[0m\u001b[0m\n\u001b[0m\u001b[1;32m      2\u001b[0m \u001b[0mX_train\u001b[0m \u001b[0;34m=\u001b[0m \u001b[0mscaler\u001b[0m\u001b[0;34m.\u001b[0m\u001b[0mtransform\u001b[0m\u001b[0;34m(\u001b[0m\u001b[0mX_train\u001b[0m\u001b[0;34m)\u001b[0m\u001b[0;34m\u001b[0m\u001b[0m\n\u001b[1;32m      3\u001b[0m \u001b[0mX_test\u001b[0m \u001b[0;34m=\u001b[0m \u001b[0mscaler\u001b[0m\u001b[0;34m.\u001b[0m\u001b[0mtransform\u001b[0m\u001b[0;34m(\u001b[0m\u001b[0mX_test\u001b[0m\u001b[0;34m)\u001b[0m\u001b[0;34m\u001b[0m\u001b[0m\n",
        "\u001b[0;32m/Library/Frameworks/Python.framework/Versions/2.7/lib/python2.7/site-packages/sklearn/preprocessing/data.pyc\u001b[0m in \u001b[0;36mfit\u001b[0;34m(self, X, y)\u001b[0m\n\u001b[1;32m    315\u001b[0m         \u001b[0mX\u001b[0m \u001b[0;34m=\u001b[0m \u001b[0mcheck_arrays\u001b[0m\u001b[0;34m(\u001b[0m\u001b[0mX\u001b[0m\u001b[0;34m,\u001b[0m \u001b[0mcopy\u001b[0m\u001b[0;34m=\u001b[0m\u001b[0mself\u001b[0m\u001b[0;34m.\u001b[0m\u001b[0mcopy\u001b[0m\u001b[0;34m,\u001b[0m \u001b[0msparse_format\u001b[0m\u001b[0;34m=\u001b[0m\u001b[0;34m\"csr\"\u001b[0m\u001b[0;34m)\u001b[0m\u001b[0;34m[\u001b[0m\u001b[0;36m0\u001b[0m\u001b[0;34m]\u001b[0m\u001b[0;34m\u001b[0m\u001b[0m\n\u001b[1;32m    316\u001b[0m         \u001b[0;32mif\u001b[0m \u001b[0mwarn_if_not_float\u001b[0m\u001b[0;34m(\u001b[0m\u001b[0mX\u001b[0m\u001b[0;34m,\u001b[0m \u001b[0mestimator\u001b[0m\u001b[0;34m=\u001b[0m\u001b[0mself\u001b[0m\u001b[0;34m)\u001b[0m\u001b[0;34m:\u001b[0m\u001b[0;34m\u001b[0m\u001b[0m\n\u001b[0;32m--> 317\u001b[0;31m             \u001b[0mX\u001b[0m \u001b[0;34m=\u001b[0m \u001b[0mX\u001b[0m\u001b[0;34m.\u001b[0m\u001b[0mastype\u001b[0m\u001b[0;34m(\u001b[0m\u001b[0mnp\u001b[0m\u001b[0;34m.\u001b[0m\u001b[0mfloat\u001b[0m\u001b[0;34m)\u001b[0m\u001b[0;34m\u001b[0m\u001b[0m\n\u001b[0m\u001b[1;32m    318\u001b[0m         \u001b[0;32mif\u001b[0m \u001b[0msparse\u001b[0m\u001b[0;34m.\u001b[0m\u001b[0missparse\u001b[0m\u001b[0;34m(\u001b[0m\u001b[0mX\u001b[0m\u001b[0;34m)\u001b[0m\u001b[0;34m:\u001b[0m\u001b[0;34m\u001b[0m\u001b[0m\n\u001b[1;32m    319\u001b[0m             \u001b[0;32mif\u001b[0m \u001b[0mself\u001b[0m\u001b[0;34m.\u001b[0m\u001b[0mwith_mean\u001b[0m\u001b[0;34m:\u001b[0m\u001b[0;34m\u001b[0m\u001b[0m\n",
        "\u001b[0;31mValueError\u001b[0m: could not convert string to float: Boxing"
       ]
      }
     ],
     "prompt_number": 91
    },
    {
     "cell_type": "markdown",
     "metadata": {},
     "source": [
      "### Fit a logistic regression model to the data"
     ]
    },
    {
     "cell_type": "code",
     "collapsed": false,
     "input": [
      "model = LogisticRegression()\n",
      "model.fit(X, y)\n",
      "print(model)"
     ],
     "language": "python",
     "metadata": {},
     "outputs": [
      {
       "ename": "ValueError",
       "evalue": "could not convert string to float: Archery",
       "output_type": "pyerr",
       "traceback": [
        "\u001b[0;31m---------------------------------------------------------------------------\u001b[0m\n\u001b[0;31mValueError\u001b[0m                                Traceback (most recent call last)",
        "\u001b[0;32m<ipython-input-92-2bd71492410d>\u001b[0m in \u001b[0;36m<module>\u001b[0;34m()\u001b[0m\n\u001b[1;32m      1\u001b[0m \u001b[0mmodel\u001b[0m \u001b[0;34m=\u001b[0m \u001b[0mLogisticRegression\u001b[0m\u001b[0;34m(\u001b[0m\u001b[0;34m)\u001b[0m\u001b[0;34m\u001b[0m\u001b[0m\n\u001b[0;32m----> 2\u001b[0;31m \u001b[0mmodel\u001b[0m\u001b[0;34m.\u001b[0m\u001b[0mfit\u001b[0m\u001b[0;34m(\u001b[0m\u001b[0mX\u001b[0m\u001b[0;34m,\u001b[0m \u001b[0my\u001b[0m\u001b[0;34m)\u001b[0m\u001b[0;34m\u001b[0m\u001b[0m\n\u001b[0m\u001b[1;32m      3\u001b[0m \u001b[0;32mprint\u001b[0m\u001b[0;34m(\u001b[0m\u001b[0mmodel\u001b[0m\u001b[0;34m)\u001b[0m\u001b[0;34m\u001b[0m\u001b[0m\n",
        "\u001b[0;32m/Library/Frameworks/Python.framework/Versions/2.7/lib/python2.7/site-packages/sklearn/svm/base.pyc\u001b[0m in \u001b[0;36mfit\u001b[0;34m(self, X, y)\u001b[0m\n\u001b[1;32m    677\u001b[0m                              \" one.\")\n\u001b[1;32m    678\u001b[0m \u001b[0;34m\u001b[0m\u001b[0m\n\u001b[0;32m--> 679\u001b[0;31m         \u001b[0mX\u001b[0m \u001b[0;34m=\u001b[0m \u001b[0matleast2d_or_csr\u001b[0m\u001b[0;34m(\u001b[0m\u001b[0mX\u001b[0m\u001b[0;34m,\u001b[0m \u001b[0mdtype\u001b[0m\u001b[0;34m=\u001b[0m\u001b[0mnp\u001b[0m\u001b[0;34m.\u001b[0m\u001b[0mfloat64\u001b[0m\u001b[0;34m,\u001b[0m \u001b[0morder\u001b[0m\u001b[0;34m=\u001b[0m\u001b[0;34m\"C\"\u001b[0m\u001b[0;34m)\u001b[0m\u001b[0;34m\u001b[0m\u001b[0m\n\u001b[0m\u001b[1;32m    680\u001b[0m \u001b[0;34m\u001b[0m\u001b[0m\n\u001b[1;32m    681\u001b[0m         self.class_weight_ = compute_class_weight(self.class_weight,\n",
        "\u001b[0;32m/Library/Frameworks/Python.framework/Versions/2.7/lib/python2.7/site-packages/sklearn/utils/validation.pyc\u001b[0m in \u001b[0;36matleast2d_or_csr\u001b[0;34m(X, dtype, order, copy, force_all_finite)\u001b[0m\n\u001b[1;32m    163\u001b[0m     return _atleast2d_or_sparse(X, dtype, order, copy, sp.csr_matrix,\n\u001b[1;32m    164\u001b[0m                                 \u001b[0;34m\"tocsr\"\u001b[0m\u001b[0;34m,\u001b[0m \u001b[0msp\u001b[0m\u001b[0;34m.\u001b[0m\u001b[0misspmatrix_csr\u001b[0m\u001b[0;34m,\u001b[0m\u001b[0;34m\u001b[0m\u001b[0m\n\u001b[0;32m--> 165\u001b[0;31m                                 force_all_finite)\n\u001b[0m\u001b[1;32m    166\u001b[0m \u001b[0;34m\u001b[0m\u001b[0m\n\u001b[1;32m    167\u001b[0m \u001b[0;34m\u001b[0m\u001b[0m\n",
        "\u001b[0;32m/Library/Frameworks/Python.framework/Versions/2.7/lib/python2.7/site-packages/sklearn/utils/validation.pyc\u001b[0m in \u001b[0;36m_atleast2d_or_sparse\u001b[0;34m(X, dtype, order, copy, sparse_class, convmethod, check_same_type, force_all_finite)\u001b[0m\n\u001b[1;32m    140\u001b[0m     \u001b[0;32melse\u001b[0m\u001b[0;34m:\u001b[0m\u001b[0;34m\u001b[0m\u001b[0m\n\u001b[1;32m    141\u001b[0m         X = array2d(X, dtype=dtype, order=order, copy=copy,\n\u001b[0;32m--> 142\u001b[0;31m                     force_all_finite=force_all_finite)\n\u001b[0m\u001b[1;32m    143\u001b[0m     \u001b[0;32mreturn\u001b[0m \u001b[0mX\u001b[0m\u001b[0;34m\u001b[0m\u001b[0m\n\u001b[1;32m    144\u001b[0m \u001b[0;34m\u001b[0m\u001b[0m\n",
        "\u001b[0;32m/Library/Frameworks/Python.framework/Versions/2.7/lib/python2.7/site-packages/sklearn/utils/validation.pyc\u001b[0m in \u001b[0;36marray2d\u001b[0;34m(X, dtype, order, copy, force_all_finite)\u001b[0m\n\u001b[1;32m    118\u001b[0m         raise TypeError('A sparse matrix was passed, but dense data '\n\u001b[1;32m    119\u001b[0m                         'is required. Use X.toarray() to convert to dense.')\n\u001b[0;32m--> 120\u001b[0;31m     \u001b[0mX_2d\u001b[0m \u001b[0;34m=\u001b[0m \u001b[0mnp\u001b[0m\u001b[0;34m.\u001b[0m\u001b[0masarray\u001b[0m\u001b[0;34m(\u001b[0m\u001b[0mnp\u001b[0m\u001b[0;34m.\u001b[0m\u001b[0matleast_2d\u001b[0m\u001b[0;34m(\u001b[0m\u001b[0mX\u001b[0m\u001b[0;34m)\u001b[0m\u001b[0;34m,\u001b[0m \u001b[0mdtype\u001b[0m\u001b[0;34m=\u001b[0m\u001b[0mdtype\u001b[0m\u001b[0;34m,\u001b[0m \u001b[0morder\u001b[0m\u001b[0;34m=\u001b[0m\u001b[0morder\u001b[0m\u001b[0;34m)\u001b[0m\u001b[0;34m\u001b[0m\u001b[0m\n\u001b[0m\u001b[1;32m    121\u001b[0m     \u001b[0;32mif\u001b[0m \u001b[0mforce_all_finite\u001b[0m\u001b[0;34m:\u001b[0m\u001b[0;34m\u001b[0m\u001b[0m\n\u001b[1;32m    122\u001b[0m         \u001b[0m_assert_all_finite\u001b[0m\u001b[0;34m(\u001b[0m\u001b[0mX_2d\u001b[0m\u001b[0;34m)\u001b[0m\u001b[0;34m\u001b[0m\u001b[0m\n",
        "\u001b[0;32m/Library/Frameworks/Python.framework/Versions/2.7/lib/python2.7/site-packages/numpy/core/numeric.pyc\u001b[0m in \u001b[0;36masarray\u001b[0;34m(a, dtype, order)\u001b[0m\n\u001b[1;32m    460\u001b[0m \u001b[0;34m\u001b[0m\u001b[0m\n\u001b[1;32m    461\u001b[0m     \"\"\"\n\u001b[0;32m--> 462\u001b[0;31m     \u001b[0;32mreturn\u001b[0m \u001b[0marray\u001b[0m\u001b[0;34m(\u001b[0m\u001b[0ma\u001b[0m\u001b[0;34m,\u001b[0m \u001b[0mdtype\u001b[0m\u001b[0;34m,\u001b[0m \u001b[0mcopy\u001b[0m\u001b[0;34m=\u001b[0m\u001b[0mFalse\u001b[0m\u001b[0;34m,\u001b[0m \u001b[0morder\u001b[0m\u001b[0;34m=\u001b[0m\u001b[0morder\u001b[0m\u001b[0;34m)\u001b[0m\u001b[0;34m\u001b[0m\u001b[0m\n\u001b[0m\u001b[1;32m    463\u001b[0m \u001b[0;34m\u001b[0m\u001b[0m\n\u001b[1;32m    464\u001b[0m \u001b[0;32mdef\u001b[0m \u001b[0masanyarray\u001b[0m\u001b[0;34m(\u001b[0m\u001b[0ma\u001b[0m\u001b[0;34m,\u001b[0m \u001b[0mdtype\u001b[0m\u001b[0;34m=\u001b[0m\u001b[0mNone\u001b[0m\u001b[0;34m,\u001b[0m \u001b[0morder\u001b[0m\u001b[0;34m=\u001b[0m\u001b[0mNone\u001b[0m\u001b[0;34m)\u001b[0m\u001b[0;34m:\u001b[0m\u001b[0;34m\u001b[0m\u001b[0m\n",
        "\u001b[0;31mValueError\u001b[0m: could not convert string to float: Archery"
       ]
      }
     ],
     "prompt_number": 92
    },
    {
     "cell_type": "code",
     "collapsed": false,
     "input": [
      "#makepredictions\n",
      "expected = y                   # the expected 'Old' boolean variable\n",
      "predicted = model.predict(X)   # predict the expected value based on the model"
     ],
     "language": "python",
     "metadata": {},
     "outputs": [
      {
       "ename": "AttributeError",
       "evalue": "'LogisticRegression' object has no attribute 'coef_'",
       "output_type": "pyerr",
       "traceback": [
        "\u001b[0;31m---------------------------------------------------------------------------\u001b[0m\n\u001b[0;31mAttributeError\u001b[0m                            Traceback (most recent call last)",
        "\u001b[0;32m<ipython-input-94-9af940834b4f>\u001b[0m in \u001b[0;36m<module>\u001b[0;34m()\u001b[0m\n\u001b[1;32m      1\u001b[0m \u001b[0;31m#makepredictions\u001b[0m\u001b[0;34m\u001b[0m\u001b[0;34m\u001b[0m\u001b[0m\n\u001b[1;32m      2\u001b[0m \u001b[0mexpected\u001b[0m \u001b[0;34m=\u001b[0m \u001b[0my\u001b[0m\u001b[0;34m\u001b[0m\u001b[0m\n\u001b[0;32m----> 3\u001b[0;31m \u001b[0mpredicted\u001b[0m \u001b[0;34m=\u001b[0m \u001b[0mmodel\u001b[0m\u001b[0;34m.\u001b[0m\u001b[0mpredict\u001b[0m\u001b[0;34m(\u001b[0m\u001b[0mX\u001b[0m\u001b[0;34m)\u001b[0m\u001b[0;34m\u001b[0m\u001b[0m\n\u001b[0m",
        "\u001b[0;32m/Library/Frameworks/Python.framework/Versions/2.7/lib/python2.7/site-packages/sklearn/linear_model/base.pyc\u001b[0m in \u001b[0;36mpredict\u001b[0;34m(self, X)\u001b[0m\n\u001b[1;32m    213\u001b[0m             \u001b[0mPredicted\u001b[0m \u001b[0;32mclass\u001b[0m \u001b[0mlabel\u001b[0m \u001b[0mper\u001b[0m \u001b[0msample\u001b[0m\u001b[0;34m.\u001b[0m\u001b[0;34m\u001b[0m\u001b[0m\n\u001b[1;32m    214\u001b[0m         \"\"\"\n\u001b[0;32m--> 215\u001b[0;31m         \u001b[0mscores\u001b[0m \u001b[0;34m=\u001b[0m \u001b[0mself\u001b[0m\u001b[0;34m.\u001b[0m\u001b[0mdecision_function\u001b[0m\u001b[0;34m(\u001b[0m\u001b[0mX\u001b[0m\u001b[0;34m)\u001b[0m\u001b[0;34m\u001b[0m\u001b[0m\n\u001b[0m\u001b[1;32m    216\u001b[0m         \u001b[0;32mif\u001b[0m \u001b[0mlen\u001b[0m\u001b[0;34m(\u001b[0m\u001b[0mscores\u001b[0m\u001b[0;34m.\u001b[0m\u001b[0mshape\u001b[0m\u001b[0;34m)\u001b[0m \u001b[0;34m==\u001b[0m \u001b[0;36m1\u001b[0m\u001b[0;34m:\u001b[0m\u001b[0;34m\u001b[0m\u001b[0m\n\u001b[1;32m    217\u001b[0m             \u001b[0mindices\u001b[0m \u001b[0;34m=\u001b[0m \u001b[0;34m(\u001b[0m\u001b[0mscores\u001b[0m \u001b[0;34m>\u001b[0m \u001b[0;36m0\u001b[0m\u001b[0;34m)\u001b[0m\u001b[0;34m.\u001b[0m\u001b[0mastype\u001b[0m\u001b[0;34m(\u001b[0m\u001b[0mnp\u001b[0m\u001b[0;34m.\u001b[0m\u001b[0mint\u001b[0m\u001b[0;34m)\u001b[0m\u001b[0;34m\u001b[0m\u001b[0m\n",
        "\u001b[0;32m/Library/Frameworks/Python.framework/Versions/2.7/lib/python2.7/site-packages/sklearn/linear_model/base.pyc\u001b[0m in \u001b[0;36mdecision_function\u001b[0;34m(self, X)\u001b[0m\n\u001b[1;32m    191\u001b[0m         \u001b[0mX\u001b[0m \u001b[0;34m=\u001b[0m \u001b[0matleast2d_or_csr\u001b[0m\u001b[0;34m(\u001b[0m\u001b[0mX\u001b[0m\u001b[0;34m)\u001b[0m\u001b[0;34m\u001b[0m\u001b[0m\n\u001b[1;32m    192\u001b[0m \u001b[0;34m\u001b[0m\u001b[0m\n\u001b[0;32m--> 193\u001b[0;31m         \u001b[0mn_features\u001b[0m \u001b[0;34m=\u001b[0m \u001b[0mself\u001b[0m\u001b[0;34m.\u001b[0m\u001b[0mcoef_\u001b[0m\u001b[0;34m.\u001b[0m\u001b[0mshape\u001b[0m\u001b[0;34m[\u001b[0m\u001b[0;36m1\u001b[0m\u001b[0;34m]\u001b[0m\u001b[0;34m\u001b[0m\u001b[0m\n\u001b[0m\u001b[1;32m    194\u001b[0m         \u001b[0;32mif\u001b[0m \u001b[0mX\u001b[0m\u001b[0;34m.\u001b[0m\u001b[0mshape\u001b[0m\u001b[0;34m[\u001b[0m\u001b[0;36m1\u001b[0m\u001b[0;34m]\u001b[0m \u001b[0;34m!=\u001b[0m \u001b[0mn_features\u001b[0m\u001b[0;34m:\u001b[0m\u001b[0;34m\u001b[0m\u001b[0m\n\u001b[1;32m    195\u001b[0m             raise ValueError(\"X has %d features per sample; expecting %d\"\n",
        "\u001b[0;31mAttributeError\u001b[0m: 'LogisticRegression' object has no attribute 'coef_'"
       ]
      }
     ],
     "prompt_number": 94
    },
    {
     "cell_type": "code",
     "collapsed": false,
     "input": [
      "# summarize the fit of the model \n",
      "print(metrics.classification_report(expected,predicted)) \n",
      "print(metrics.confusion_matrix(expected,predicted))"
     ],
     "language": "python",
     "metadata": {},
     "outputs": []
    },
    {
     "cell_type": "markdown",
     "metadata": {},
     "source": [
      "#=================================================================="
     ]
    },
    {
     "cell_type": "markdown",
     "metadata": {},
     "source": [
      "# //TO-DO"
     ]
    },
    {
     "cell_type": "markdown",
     "metadata": {},
     "source": [
      "# * obtain the coefficients for each of the variables in the data set used for predicting the \"OLD\" variable\n",
      "# * discuss the findings on which variables carry more weight in the prediction"
     ]
    },
    {
     "cell_type": "markdown",
     "metadata": {},
     "source": [
      "# * show the confusion matrix for the prediction model"
     ]
    },
    {
     "cell_type": "markdown",
     "metadata": {},
     "source": [
      "# * run the prediction model on the test set to see how well it performs in predicting the age group"
     ]
    },
    {
     "cell_type": "markdown",
     "metadata": {},
     "source": [
      "#=================================================================="
     ]
    },
    {
     "cell_type": "code",
     "collapsed": false,
     "input": [],
     "language": "python",
     "metadata": {},
     "outputs": [],
     "prompt_number": 61
    }
   ],
   "metadata": {}
  }
 ]
}