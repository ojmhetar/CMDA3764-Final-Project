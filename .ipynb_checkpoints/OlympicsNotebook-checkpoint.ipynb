{
 "metadata": {
  "name": "",
  "signature": "sha256:f5152574c712dcf5f369c86e415affaf50d3267abffef99452184acb4248b960"
 },
 "nbformat": 3,
 "nbformat_minor": 0,
 "worksheets": [
  {
   "cells": [
    {
     "cell_type": "markdown",
     "metadata": {},
     "source": [
      "# CMDA-3654 Final Project\n",
      "## Team-08 | Olympics Data\n",
      "#### Ryan Connors | Ojas Mhetar | Allan Chua | Omar Malik"
     ]
    },
    {
     "cell_type": "markdown",
     "metadata": {},
     "source": [
      "# Setup and library imports "
     ]
    },
    {
     "cell_type": "code",
     "collapsed": false,
     "input": [
      "# enable inline plotting\n",
      "%pylab inline\n",
      "\n",
      "# import libraries\n",
      "import pandas as pd\n",
      "import matplotlib as mp\n",
      "import matplotlib.pyplot as plt\n",
      "import pylab as pl\n",
      "import pickle\n",
      "import xlrd"
     ],
     "language": "python",
     "metadata": {},
     "outputs": [
      {
       "output_type": "stream",
       "stream": "stdout",
       "text": [
        "Populating the interactive namespace from numpy and matplotlib\n"
       ]
      }
     ],
     "prompt_number": 2
    },
    {
     "cell_type": "code",
     "collapsed": false,
     "input": [
      "#Warning not integral to columns used"
     ],
     "language": "python",
     "metadata": {},
     "outputs": []
    },
    {
     "cell_type": "markdown",
     "metadata": {},
     "source": [
      "# Import data from csv file and data set to pandas."
     ]
    },
    {
     "cell_type": "code",
     "collapsed": false,
     "input": [
      "olympics = pd.read_csv('Data/OlympicAthletes.csv', header=0, names=['Athlete','Age','Country','Year','Closing_Date','Sport','Gold','Silver','Bronze','Total'])"
     ],
     "language": "python",
     "metadata": {},
     "outputs": [],
     "prompt_number": 3
    },
    {
     "cell_type": "markdown",
     "metadata": {},
     "source": [
      "# Reshape Date Data from 1904 Date System"
     ]
    },
    {
     "cell_type": "code",
     "collapsed": false,
     "input": [
      "olympics.head()"
     ],
     "language": "python",
     "metadata": {},
     "outputs": [
      {
       "html": [
        "<div style=\"max-height:1000px;max-width:1500px;overflow:auto;\">\n",
        "<table border=\"1\" class=\"dataframe\">\n",
        "  <thead>\n",
        "    <tr style=\"text-align: right;\">\n",
        "      <th></th>\n",
        "      <th>Athlete</th>\n",
        "      <th>Age</th>\n",
        "      <th>Country</th>\n",
        "      <th>Year</th>\n",
        "      <th>Closing_Date</th>\n",
        "      <th>Sport</th>\n",
        "      <th>Gold</th>\n",
        "      <th>Silver</th>\n",
        "      <th>Bronze</th>\n",
        "      <th>Total</th>\n",
        "    </tr>\n",
        "  </thead>\n",
        "  <tbody>\n",
        "    <tr>\n",
        "      <th>0</th>\n",
        "      <td>   Michael Phelps</td>\n",
        "      <td> 23</td>\n",
        "      <td> United States</td>\n",
        "      <td> 2008</td>\n",
        "      <td> 39684</td>\n",
        "      <td>   Swimming</td>\n",
        "      <td> 8</td>\n",
        "      <td> 0</td>\n",
        "      <td> 0</td>\n",
        "      <td> 8</td>\n",
        "    </tr>\n",
        "    <tr>\n",
        "      <th>1</th>\n",
        "      <td>   Michael Phelps</td>\n",
        "      <td> 19</td>\n",
        "      <td> United States</td>\n",
        "      <td> 2004</td>\n",
        "      <td> 38228</td>\n",
        "      <td>   Swimming</td>\n",
        "      <td> 6</td>\n",
        "      <td> 0</td>\n",
        "      <td> 2</td>\n",
        "      <td> 8</td>\n",
        "    </tr>\n",
        "    <tr>\n",
        "      <th>2</th>\n",
        "      <td>   Michael Phelps</td>\n",
        "      <td> 27</td>\n",
        "      <td> United States</td>\n",
        "      <td> 2012</td>\n",
        "      <td> 41133</td>\n",
        "      <td>   Swimming</td>\n",
        "      <td> 4</td>\n",
        "      <td> 2</td>\n",
        "      <td> 0</td>\n",
        "      <td> 6</td>\n",
        "    </tr>\n",
        "    <tr>\n",
        "      <th>3</th>\n",
        "      <td> Natalie Coughlin</td>\n",
        "      <td> 25</td>\n",
        "      <td> United States</td>\n",
        "      <td> 2008</td>\n",
        "      <td> 39684</td>\n",
        "      <td>   Swimming</td>\n",
        "      <td> 1</td>\n",
        "      <td> 2</td>\n",
        "      <td> 3</td>\n",
        "      <td> 6</td>\n",
        "    </tr>\n",
        "    <tr>\n",
        "      <th>4</th>\n",
        "      <td>    Aleksey Nemov</td>\n",
        "      <td> 24</td>\n",
        "      <td>        Russia</td>\n",
        "      <td> 2000</td>\n",
        "      <td> 36800</td>\n",
        "      <td> Gymnastics</td>\n",
        "      <td> 2</td>\n",
        "      <td> 1</td>\n",
        "      <td> 3</td>\n",
        "      <td> 6</td>\n",
        "    </tr>\n",
        "  </tbody>\n",
        "</table>\n",
        "</div>"
       ],
       "metadata": {},
       "output_type": "pyout",
       "prompt_number": 4,
       "text": [
        "            Athlete  Age        Country  Year  Closing_Date       Sport  Gold  \\\n",
        "0    Michael Phelps   23  United States  2008         39684    Swimming     8   \n",
        "1    Michael Phelps   19  United States  2004         38228    Swimming     6   \n",
        "2    Michael Phelps   27  United States  2012         41133    Swimming     4   \n",
        "3  Natalie Coughlin   25  United States  2008         39684    Swimming     1   \n",
        "4     Aleksey Nemov   24         Russia  2000         36800  Gymnastics     2   \n",
        "\n",
        "   Silver  Bronze  Total  \n",
        "0       0       0      8  \n",
        "1       0       2      8  \n",
        "2       2       0      6  \n",
        "3       2       3      6  \n",
        "4       1       3      6  "
       ]
      }
     ],
     "prompt_number": 4
    },
    {
     "cell_type": "markdown",
     "metadata": {},
     "source": [
      "#### Looking at the head of the data set we can see the Closing_Date variable is not a proper date"
     ]
    },
    {
     "cell_type": "markdown",
     "metadata": {},
     "source": [
      "#### The Macintosh default 1904-based date system counts 1904-01-02 as day one and 1904-01-01 as day zero. To clean up the data, we must convert each of the values in 'Closing Ceremony Date' to a relevant python datetime object"
     ]
    },
    {
     "cell_type": "code",
     "collapsed": false,
     "input": [
      "# get the Closing Ceremony Dates variable from the data\n",
      "closing_dates = olympics['Closing_Date']\n",
      "\n",
      "# create a list for holding the new date values\n",
      "closing_dates_fix = []\n",
      "\n",
      "# convert each 1904-based date to a datetime object and store it in closing_dates_fix\n",
      "for i in range(0, len(closing_dates)):\n",
      "    t = xlrd.xldate_as_tuple(olympics['Closing_Date'][i], 0)\n",
      "    closing_dates_fix.append(datetime.date(t[0], t[1], t[2]))\n",
      "    \n",
      "# replaces the values in the DataFrame\n",
      "olympics['Closing_Date'] = closing_dates_fix"
     ],
     "language": "python",
     "metadata": {},
     "outputs": [],
     "prompt_number": 5
    },
    {
     "cell_type": "markdown",
     "metadata": {},
     "source": [
      "#### Here we can verify that the Closing Ceremony Date data has been formatted correctly"
     ]
    },
    {
     "cell_type": "code",
     "collapsed": false,
     "input": [
      "olympics.head()"
     ],
     "language": "python",
     "metadata": {},
     "outputs": [
      {
       "html": [
        "<div style=\"max-height:1000px;max-width:1500px;overflow:auto;\">\n",
        "<table border=\"1\" class=\"dataframe\">\n",
        "  <thead>\n",
        "    <tr style=\"text-align: right;\">\n",
        "      <th></th>\n",
        "      <th>Athlete</th>\n",
        "      <th>Age</th>\n",
        "      <th>Country</th>\n",
        "      <th>Year</th>\n",
        "      <th>Closing_Date</th>\n",
        "      <th>Sport</th>\n",
        "      <th>Gold</th>\n",
        "      <th>Silver</th>\n",
        "      <th>Bronze</th>\n",
        "      <th>Total</th>\n",
        "    </tr>\n",
        "  </thead>\n",
        "  <tbody>\n",
        "    <tr>\n",
        "      <th>0</th>\n",
        "      <td>   Michael Phelps</td>\n",
        "      <td> 23</td>\n",
        "      <td> United States</td>\n",
        "      <td> 2008</td>\n",
        "      <td> 2008-08-24</td>\n",
        "      <td>   Swimming</td>\n",
        "      <td> 8</td>\n",
        "      <td> 0</td>\n",
        "      <td> 0</td>\n",
        "      <td> 8</td>\n",
        "    </tr>\n",
        "    <tr>\n",
        "      <th>1</th>\n",
        "      <td>   Michael Phelps</td>\n",
        "      <td> 19</td>\n",
        "      <td> United States</td>\n",
        "      <td> 2004</td>\n",
        "      <td> 2004-08-29</td>\n",
        "      <td>   Swimming</td>\n",
        "      <td> 6</td>\n",
        "      <td> 0</td>\n",
        "      <td> 2</td>\n",
        "      <td> 8</td>\n",
        "    </tr>\n",
        "    <tr>\n",
        "      <th>2</th>\n",
        "      <td>   Michael Phelps</td>\n",
        "      <td> 27</td>\n",
        "      <td> United States</td>\n",
        "      <td> 2012</td>\n",
        "      <td> 2012-08-12</td>\n",
        "      <td>   Swimming</td>\n",
        "      <td> 4</td>\n",
        "      <td> 2</td>\n",
        "      <td> 0</td>\n",
        "      <td> 6</td>\n",
        "    </tr>\n",
        "    <tr>\n",
        "      <th>3</th>\n",
        "      <td> Natalie Coughlin</td>\n",
        "      <td> 25</td>\n",
        "      <td> United States</td>\n",
        "      <td> 2008</td>\n",
        "      <td> 2008-08-24</td>\n",
        "      <td>   Swimming</td>\n",
        "      <td> 1</td>\n",
        "      <td> 2</td>\n",
        "      <td> 3</td>\n",
        "      <td> 6</td>\n",
        "    </tr>\n",
        "    <tr>\n",
        "      <th>4</th>\n",
        "      <td>    Aleksey Nemov</td>\n",
        "      <td> 24</td>\n",
        "      <td>        Russia</td>\n",
        "      <td> 2000</td>\n",
        "      <td> 2000-10-01</td>\n",
        "      <td> Gymnastics</td>\n",
        "      <td> 2</td>\n",
        "      <td> 1</td>\n",
        "      <td> 3</td>\n",
        "      <td> 6</td>\n",
        "    </tr>\n",
        "  </tbody>\n",
        "</table>\n",
        "</div>"
       ],
       "metadata": {},
       "output_type": "pyout",
       "prompt_number": 6,
       "text": [
        "            Athlete  Age        Country  Year Closing_Date       Sport  Gold  \\\n",
        "0    Michael Phelps   23  United States  2008   2008-08-24    Swimming     8   \n",
        "1    Michael Phelps   19  United States  2004   2004-08-29    Swimming     6   \n",
        "2    Michael Phelps   27  United States  2012   2012-08-12    Swimming     4   \n",
        "3  Natalie Coughlin   25  United States  2008   2008-08-24    Swimming     1   \n",
        "4     Aleksey Nemov   24         Russia  2000   2000-10-01  Gymnastics     2   \n",
        "\n",
        "   Silver  Bronze  Total  \n",
        "0       0       0      8  \n",
        "1       0       2      8  \n",
        "2       2       0      6  \n",
        "3       2       3      6  \n",
        "4       1       3      6  "
       ]
      }
     ],
     "prompt_number": 6
    },
    {
     "cell_type": "markdown",
     "metadata": {},
     "source": [
      "# Handle Missing Values"
     ]
    },
    {
     "cell_type": "markdown",
     "metadata": {},
     "source": [
      "#### Looking at the data we see there are some NaN values in the Age variable"
     ]
    },
    {
     "cell_type": "code",
     "collapsed": false,
     "input": [
      "np.count_nonzero(np.isnan(olympics['Age']))"
     ],
     "language": "python",
     "metadata": {},
     "outputs": [
      {
       "metadata": {},
       "output_type": "pyout",
       "prompt_number": 7,
       "text": [
        "5"
       ]
      }
     ],
     "prompt_number": 7
    },
    {
     "cell_type": "markdown",
     "metadata": {},
     "source": [
      "#### Replace missing age variable with the mean and store it in a new variable 'NewAge'"
     ]
    },
    {
     "cell_type": "code",
     "collapsed": false,
     "input": [
      "olympics['NewAge'] = olympics['Age'].replace(np.nan, mean(olympics['Age']))"
     ],
     "language": "python",
     "metadata": {},
     "outputs": [],
     "prompt_number": 8
    },
    {
     "cell_type": "markdown",
     "metadata": {},
     "source": [
      "#### next we can verify that the variable NewAge has no NaN values"
     ]
    },
    {
     "cell_type": "code",
     "collapsed": false,
     "input": [
      "np.count_nonzero(np.isnan(olympics['NewAge']))"
     ],
     "language": "python",
     "metadata": {},
     "outputs": [
      {
       "metadata": {},
       "output_type": "pyout",
       "prompt_number": 9,
       "text": [
        "0"
       ]
      }
     ],
     "prompt_number": 9
    },
    {
     "cell_type": "markdown",
     "metadata": {},
     "source": [
      "#### Looking at the data we see there are some Null values in the Athlete variable"
     ]
    },
    {
     "cell_type": "code",
     "collapsed": false,
     "input": [
      "np.count_nonzero(pd.isnull(olympics['Athlete']))"
     ],
     "language": "python",
     "metadata": {},
     "outputs": [
      {
       "metadata": {},
       "output_type": "pyout",
       "prompt_number": 10,
       "text": [
        "5"
       ]
      }
     ],
     "prompt_number": 10
    },
    {
     "cell_type": "markdown",
     "metadata": {},
     "source": [
      "#### Replace blank Athlete fields with \"Missing\" in a new variable 'NewAthlete'"
     ]
    },
    {
     "cell_type": "code",
     "collapsed": false,
     "input": [
      "olympics['NewAthlete'] = olympics['Athlete'].replace(np.nan, \"Missing\")"
     ],
     "language": "python",
     "metadata": {},
     "outputs": [],
     "prompt_number": 11
    },
    {
     "cell_type": "markdown",
     "metadata": {},
     "source": [
      "#### Next, we can verify that the variable NewAthlete has no Null values"
     ]
    },
    {
     "cell_type": "code",
     "collapsed": false,
     "input": [
      "np.count_nonzero(pd.isnull(olympics['NewAthlete']))"
     ],
     "language": "python",
     "metadata": {},
     "outputs": [
      {
       "metadata": {},
       "output_type": "pyout",
       "prompt_number": 12,
       "text": [
        "0"
       ]
      }
     ],
     "prompt_number": 12
    },
    {
     "cell_type": "markdown",
     "metadata": {},
     "source": [
      "# Save the reshaped data as a pickle"
     ]
    },
    {
     "cell_type": "code",
     "collapsed": false,
     "input": [
      "olympics.to_pickle('Pickle/OlympicsPickle')"
     ],
     "language": "python",
     "metadata": {},
     "outputs": [],
     "prompt_number": 13
    },
    {
     "cell_type": "markdown",
     "metadata": {},
     "source": [
      "# Look at numerical summaries for variables"
     ]
    },
    {
     "cell_type": "code",
     "collapsed": false,
     "input": [
      "olympics.describe()"
     ],
     "language": "python",
     "metadata": {},
     "outputs": [
      {
       "html": [
        "<div style=\"max-height:1000px;max-width:1500px;overflow:auto;\">\n",
        "<table border=\"1\" class=\"dataframe\">\n",
        "  <thead>\n",
        "    <tr style=\"text-align: right;\">\n",
        "      <th></th>\n",
        "      <th>Age</th>\n",
        "      <th>Year</th>\n",
        "      <th>Gold</th>\n",
        "      <th>Silver</th>\n",
        "      <th>Bronze</th>\n",
        "      <th>Total</th>\n",
        "      <th>NewAge</th>\n",
        "    </tr>\n",
        "  </thead>\n",
        "  <tbody>\n",
        "    <tr>\n",
        "      <th>count</th>\n",
        "      <td> 8613.000000</td>\n",
        "      <td> 8618.000000</td>\n",
        "      <td> 8618.000000</td>\n",
        "      <td> 8618.000000</td>\n",
        "      <td> 8618.000000</td>\n",
        "      <td> 8618.000000</td>\n",
        "      <td> 8618.000000</td>\n",
        "    </tr>\n",
        "    <tr>\n",
        "      <th>mean</th>\n",
        "      <td>   26.405434</td>\n",
        "      <td> 2005.978881</td>\n",
        "      <td>    0.364702</td>\n",
        "      <td>    0.363309</td>\n",
        "      <td>    0.377698</td>\n",
        "      <td>    1.105709</td>\n",
        "      <td>   26.405434</td>\n",
        "    </tr>\n",
        "    <tr>\n",
        "      <th>std</th>\n",
        "      <td>    5.102118</td>\n",
        "      <td>    4.289946</td>\n",
        "      <td>    0.545349</td>\n",
        "      <td>    0.511613</td>\n",
        "      <td>    0.505005</td>\n",
        "      <td>    0.408892</td>\n",
        "      <td>    5.100638</td>\n",
        "    </tr>\n",
        "    <tr>\n",
        "      <th>min</th>\n",
        "      <td>   15.000000</td>\n",
        "      <td> 2000.000000</td>\n",
        "      <td>    0.000000</td>\n",
        "      <td>    0.000000</td>\n",
        "      <td>    0.000000</td>\n",
        "      <td>    1.000000</td>\n",
        "      <td>   15.000000</td>\n",
        "    </tr>\n",
        "    <tr>\n",
        "      <th>25%</th>\n",
        "      <td>   23.000000</td>\n",
        "      <td> 2002.000000</td>\n",
        "      <td>    0.000000</td>\n",
        "      <td>    0.000000</td>\n",
        "      <td>    0.000000</td>\n",
        "      <td>    1.000000</td>\n",
        "      <td>   23.000000</td>\n",
        "    </tr>\n",
        "    <tr>\n",
        "      <th>50%</th>\n",
        "      <td>   26.000000</td>\n",
        "      <td> 2006.000000</td>\n",
        "      <td>    0.000000</td>\n",
        "      <td>    0.000000</td>\n",
        "      <td>    0.000000</td>\n",
        "      <td>    1.000000</td>\n",
        "      <td>   26.000000</td>\n",
        "    </tr>\n",
        "    <tr>\n",
        "      <th>75%</th>\n",
        "      <td>   29.000000</td>\n",
        "      <td> 2010.000000</td>\n",
        "      <td>    1.000000</td>\n",
        "      <td>    1.000000</td>\n",
        "      <td>    1.000000</td>\n",
        "      <td>    1.000000</td>\n",
        "      <td>   29.000000</td>\n",
        "    </tr>\n",
        "    <tr>\n",
        "      <th>max</th>\n",
        "      <td>   61.000000</td>\n",
        "      <td> 2012.000000</td>\n",
        "      <td>    8.000000</td>\n",
        "      <td>    3.000000</td>\n",
        "      <td>    3.000000</td>\n",
        "      <td>    8.000000</td>\n",
        "      <td>   61.000000</td>\n",
        "    </tr>\n",
        "  </tbody>\n",
        "</table>\n",
        "</div>"
       ],
       "metadata": {},
       "output_type": "pyout",
       "prompt_number": 14,
       "text": [
        "               Age         Year         Gold       Silver       Bronze  \\\n",
        "count  8613.000000  8618.000000  8618.000000  8618.000000  8618.000000   \n",
        "mean     26.405434  2005.978881     0.364702     0.363309     0.377698   \n",
        "std       5.102118     4.289946     0.545349     0.511613     0.505005   \n",
        "min      15.000000  2000.000000     0.000000     0.000000     0.000000   \n",
        "25%      23.000000  2002.000000     0.000000     0.000000     0.000000   \n",
        "50%      26.000000  2006.000000     0.000000     0.000000     0.000000   \n",
        "75%      29.000000  2010.000000     1.000000     1.000000     1.000000   \n",
        "max      61.000000  2012.000000     8.000000     3.000000     3.000000   \n",
        "\n",
        "             Total       NewAge  \n",
        "count  8618.000000  8618.000000  \n",
        "mean      1.105709    26.405434  \n",
        "std       0.408892     5.100638  \n",
        "min       1.000000    15.000000  \n",
        "25%       1.000000    23.000000  \n",
        "50%       1.000000    26.000000  \n",
        "75%       1.000000    29.000000  \n",
        "max       8.000000    61.000000  "
       ]
      }
     ],
     "prompt_number": 14
    },
    {
     "cell_type": "markdown",
     "metadata": {},
     "source": [
      "#### We can gather some interesting information by looking at the numerical summaries\n",
      "* There are a total of 8,613 occurences in the data set\n",
      "* We see that the data spans from the year 2000 to the year 2012\n",
      "    * **Gold Medals:** \n",
      "        * mean of 0.36\n",
      "        * standard deviation of 0.54\n",
      "        * 75% of the occurances have only 1 gold medal\n",
      "        * there is at least one occurance of 8 gold medals \n",
      "    * **Silver Medals:**\n",
      "        * mean of 0.36\n",
      "        * standard deviation of 0.51\n",
      "        * 75% of the occurances have only 1 silver medal\n",
      "        * there is at least one occurance of 3 silver medals\n",
      "    * **Bronze Medals:**\n",
      "        * mean of 0.38\n",
      "        * standard deviation of 0.51\n",
      "        * 75% of the occurances have only 1 bronze medal\n",
      "        * there is at least one occurance of 3 bronze medals\n",
      "    * **Total Medals**\n",
      "        * mean of 1.11\n",
      "        * standard deviation of 0.41\n",
      "        * minimum of 1 : all occurances have at least 1 medal\n",
      "        * lower, middle and upper quartile all have 1 medal\n",
      "        * there is at least one occurance of 8 total medals\n",
      "    * **Age:**\n",
      "        * first we see very little difference between the original Age and NewAge variables\n",
      "        * this tells us our decision to replace missing Age data with the mean was probably a good one\n",
      "        * mean of 26.4\n",
      "        * standard deviation of 5.10\n",
      "        * min:15 -> 25%:[23] -> 50%[26] -> 75%[29] -> max:61"
     ]
    },
    {
     "cell_type": "markdown",
     "metadata": {},
     "source": [
      "#### Examine the summary of categorical variables"
     ]
    },
    {
     "cell_type": "code",
     "collapsed": false,
     "input": [
      "olympics.head(10)    # printing the top 10 occurences; sorted by total medals 'descending'"
     ],
     "language": "python",
     "metadata": {},
     "outputs": [
      {
       "html": [
        "<div style=\"max-height:1000px;max-width:1500px;overflow:auto;\">\n",
        "<table border=\"1\" class=\"dataframe\">\n",
        "  <thead>\n",
        "    <tr style=\"text-align: right;\">\n",
        "      <th></th>\n",
        "      <th>Athlete</th>\n",
        "      <th>Age</th>\n",
        "      <th>Country</th>\n",
        "      <th>Year</th>\n",
        "      <th>Closing_Date</th>\n",
        "      <th>Sport</th>\n",
        "      <th>Gold</th>\n",
        "      <th>Silver</th>\n",
        "      <th>Bronze</th>\n",
        "      <th>Total</th>\n",
        "      <th>NewAge</th>\n",
        "      <th>NewAthlete</th>\n",
        "    </tr>\n",
        "  </thead>\n",
        "  <tbody>\n",
        "    <tr>\n",
        "      <th>0</th>\n",
        "      <td>   Michael Phelps</td>\n",
        "      <td> 23</td>\n",
        "      <td> United States</td>\n",
        "      <td> 2008</td>\n",
        "      <td> 2008-08-24</td>\n",
        "      <td>   Swimming</td>\n",
        "      <td> 8</td>\n",
        "      <td> 0</td>\n",
        "      <td> 0</td>\n",
        "      <td> 8</td>\n",
        "      <td> 23</td>\n",
        "      <td>   Michael Phelps</td>\n",
        "    </tr>\n",
        "    <tr>\n",
        "      <th>1</th>\n",
        "      <td>   Michael Phelps</td>\n",
        "      <td> 19</td>\n",
        "      <td> United States</td>\n",
        "      <td> 2004</td>\n",
        "      <td> 2004-08-29</td>\n",
        "      <td>   Swimming</td>\n",
        "      <td> 6</td>\n",
        "      <td> 0</td>\n",
        "      <td> 2</td>\n",
        "      <td> 8</td>\n",
        "      <td> 19</td>\n",
        "      <td>   Michael Phelps</td>\n",
        "    </tr>\n",
        "    <tr>\n",
        "      <th>2</th>\n",
        "      <td>   Michael Phelps</td>\n",
        "      <td> 27</td>\n",
        "      <td> United States</td>\n",
        "      <td> 2012</td>\n",
        "      <td> 2012-08-12</td>\n",
        "      <td>   Swimming</td>\n",
        "      <td> 4</td>\n",
        "      <td> 2</td>\n",
        "      <td> 0</td>\n",
        "      <td> 6</td>\n",
        "      <td> 27</td>\n",
        "      <td>   Michael Phelps</td>\n",
        "    </tr>\n",
        "    <tr>\n",
        "      <th>3</th>\n",
        "      <td> Natalie Coughlin</td>\n",
        "      <td> 25</td>\n",
        "      <td> United States</td>\n",
        "      <td> 2008</td>\n",
        "      <td> 2008-08-24</td>\n",
        "      <td>   Swimming</td>\n",
        "      <td> 1</td>\n",
        "      <td> 2</td>\n",
        "      <td> 3</td>\n",
        "      <td> 6</td>\n",
        "      <td> 25</td>\n",
        "      <td> Natalie Coughlin</td>\n",
        "    </tr>\n",
        "    <tr>\n",
        "      <th>4</th>\n",
        "      <td>    Aleksey Nemov</td>\n",
        "      <td> 24</td>\n",
        "      <td>        Russia</td>\n",
        "      <td> 2000</td>\n",
        "      <td> 2000-10-01</td>\n",
        "      <td> Gymnastics</td>\n",
        "      <td> 2</td>\n",
        "      <td> 1</td>\n",
        "      <td> 3</td>\n",
        "      <td> 6</td>\n",
        "      <td> 24</td>\n",
        "      <td>    Aleksey Nemov</td>\n",
        "    </tr>\n",
        "    <tr>\n",
        "      <th>5</th>\n",
        "      <td>    Alicia Coutts</td>\n",
        "      <td> 24</td>\n",
        "      <td>     Australia</td>\n",
        "      <td> 2012</td>\n",
        "      <td> 2012-08-12</td>\n",
        "      <td>   Swimming</td>\n",
        "      <td> 1</td>\n",
        "      <td> 3</td>\n",
        "      <td> 1</td>\n",
        "      <td> 5</td>\n",
        "      <td> 24</td>\n",
        "      <td>    Alicia Coutts</td>\n",
        "    </tr>\n",
        "    <tr>\n",
        "      <th>6</th>\n",
        "      <td>   Missy Franklin</td>\n",
        "      <td> 17</td>\n",
        "      <td> United States</td>\n",
        "      <td> 2012</td>\n",
        "      <td> 2012-08-12</td>\n",
        "      <td>   Swimming</td>\n",
        "      <td> 4</td>\n",
        "      <td> 0</td>\n",
        "      <td> 1</td>\n",
        "      <td> 5</td>\n",
        "      <td> 17</td>\n",
        "      <td>   Missy Franklin</td>\n",
        "    </tr>\n",
        "    <tr>\n",
        "      <th>7</th>\n",
        "      <td>      Ryan Lochte</td>\n",
        "      <td> 27</td>\n",
        "      <td> United States</td>\n",
        "      <td> 2012</td>\n",
        "      <td> 2012-08-12</td>\n",
        "      <td>   Swimming</td>\n",
        "      <td> 2</td>\n",
        "      <td> 2</td>\n",
        "      <td> 1</td>\n",
        "      <td> 5</td>\n",
        "      <td> 27</td>\n",
        "      <td>      Ryan Lochte</td>\n",
        "    </tr>\n",
        "    <tr>\n",
        "      <th>8</th>\n",
        "      <td>  Allison Schmitt</td>\n",
        "      <td> 22</td>\n",
        "      <td> United States</td>\n",
        "      <td> 2012</td>\n",
        "      <td> 2012-08-12</td>\n",
        "      <td>   Swimming</td>\n",
        "      <td> 3</td>\n",
        "      <td> 1</td>\n",
        "      <td> 1</td>\n",
        "      <td> 5</td>\n",
        "      <td> 22</td>\n",
        "      <td>  Allison Schmitt</td>\n",
        "    </tr>\n",
        "    <tr>\n",
        "      <th>9</th>\n",
        "      <td> Natalie Coughlin</td>\n",
        "      <td> 21</td>\n",
        "      <td> United States</td>\n",
        "      <td> 2004</td>\n",
        "      <td> 2004-08-29</td>\n",
        "      <td>   Swimming</td>\n",
        "      <td> 2</td>\n",
        "      <td> 2</td>\n",
        "      <td> 1</td>\n",
        "      <td> 5</td>\n",
        "      <td> 21</td>\n",
        "      <td> Natalie Coughlin</td>\n",
        "    </tr>\n",
        "  </tbody>\n",
        "</table>\n",
        "</div>"
       ],
       "metadata": {},
       "output_type": "pyout",
       "prompt_number": 15,
       "text": [
        "            Athlete  Age        Country  Year Closing_Date       Sport  Gold  \\\n",
        "0    Michael Phelps   23  United States  2008   2008-08-24    Swimming     8   \n",
        "1    Michael Phelps   19  United States  2004   2004-08-29    Swimming     6   \n",
        "2    Michael Phelps   27  United States  2012   2012-08-12    Swimming     4   \n",
        "3  Natalie Coughlin   25  United States  2008   2008-08-24    Swimming     1   \n",
        "4     Aleksey Nemov   24         Russia  2000   2000-10-01  Gymnastics     2   \n",
        "5     Alicia Coutts   24      Australia  2012   2012-08-12    Swimming     1   \n",
        "6    Missy Franklin   17  United States  2012   2012-08-12    Swimming     4   \n",
        "7       Ryan Lochte   27  United States  2012   2012-08-12    Swimming     2   \n",
        "8   Allison Schmitt   22  United States  2012   2012-08-12    Swimming     3   \n",
        "9  Natalie Coughlin   21  United States  2004   2004-08-29    Swimming     2   \n",
        "\n",
        "   Silver  Bronze  Total  NewAge        NewAthlete  \n",
        "0       0       0      8      23    Michael Phelps  \n",
        "1       0       2      8      19    Michael Phelps  \n",
        "2       2       0      6      27    Michael Phelps  \n",
        "3       2       3      6      25  Natalie Coughlin  \n",
        "4       1       3      6      24     Aleksey Nemov  \n",
        "5       3       1      5      24     Alicia Coutts  \n",
        "6       0       1      5      17    Missy Franklin  \n",
        "7       2       1      5      27       Ryan Lochte  \n",
        "8       1       1      5      22   Allison Schmitt  \n",
        "9       2       1      5      21  Natalie Coughlin  "
       ]
      }
     ],
     "prompt_number": 15
    },
    {
     "cell_type": "markdown",
     "metadata": {},
     "source": [
      "#### Looking at the head of the data again, we can examine the categorical variables 'Athlete', 'Country' and 'Sport'\n",
      "* **Athlete:**    \n",
      "    * the top three occurances are \"Michael Phelps\" based on the descending order of the 'Total Medals' variable.\n",
      "    * we see Michael Phelps topped the chart in 2004, 2008 and 2012 with 6, 8, and 8 total medals\n",
      "* **Country:**\n",
      "    * the United States in 8 of the top 10 spots\n",
      "    * Russia is in the 4th occurence with 6 total medals for athlete Aleksey Nemov in the sport of Gymnastics\n",
      "    * Australia in slot 5 with athlete Alicia Coutts with 5 total medals in the sport of Swimming\n",
      "* **Sport**\n",
      "    * swimming appears to dominate the top of the total medals with 9/10 occurences\n",
      "    * only one instance of the sport 'Gymnastics' in the top 10 occurences"
     ]
    },
    {
     "cell_type": "markdown",
     "metadata": {},
     "source": [
      "# Visualizing the data"
     ]
    },
    {
     "cell_type": "markdown",
     "metadata": {},
     "source": [
      "### Visualize the ages of the Olympic Athletes using a Histogram Plot"
     ]
    },
    {
     "cell_type": "markdown",
     "metadata": {},
     "source": [
      "Note: this histogram is working with the NewAge variable where we replaced missing data with the mean in 5 occrurences"
     ]
    },
    {
     "cell_type": "code",
     "collapsed": false,
     "input": [
      "pl.xlabel(\"NewAge\")\n",
      "pl.ylabel(\"Occurances\")\n",
      "pl.title(\"Olympic Athlete (New)Ages: Histogram\")\n",
      "pl.hist(olympics['NewAge'], bins=90)\n",
      "pl.show()"
     ],
     "language": "python",
     "metadata": {},
     "outputs": [
      {
       "metadata": {},
       "output_type": "display_data",
       "png": "[encoded data removed]",
       "text": [
        "<matplotlib.figure.Figure at 0x10508ec50>"
       ]
      }
     ],
     "prompt_number": 16
    },
    {
     "cell_type": "markdown",
     "metadata": {},
     "source": [
      "### Get the top 5 countries with the most total medals"
     ]
    },
    {
     "cell_type": "code",
     "collapsed": false,
     "input": [
      "GroupByTotal = olympics.groupby('Country').Total.sum()\n",
      "GroupByTotal.sort(ascending=False)\n",
      "Top5 = GroupByTotal.head(5)\n",
      "Top5"
     ],
     "language": "python",
     "metadata": {},
     "outputs": [
      {
       "metadata": {},
       "output_type": "pyout",
       "prompt_number": 17,
       "text": [
        "Country\n",
        "United States    1312\n",
        "Russia            768\n",
        "Germany           629\n",
        "Australia         609\n",
        "China             530\n",
        "Name: Total, dtype: int64"
       ]
      }
     ],
     "prompt_number": 17
    },
    {
     "cell_type": "markdown",
     "metadata": {},
     "source": [
      "# Create a new boolean variable 'Old'"
     ]
    },
    {
     "cell_type": "markdown",
     "metadata": {},
     "source": [
      "#### This variable will be True of the Athlete is older than the mean age of all of the olympic athletes and will be False if the Athlete is at, or younger than the mean age."
     ]
    },
    {
     "cell_type": "code",
     "collapsed": false,
     "input": [
      "olympics['Old'] = olympics['NewAge'] > (mean(olympics['NewAge']))"
     ],
     "language": "python",
     "metadata": {},
     "outputs": [],
     "prompt_number": 18
    },
    {
     "cell_type": "code",
     "collapsed": false,
     "input": [
      "count_nonzero(olympics.Old)"
     ],
     "language": "python",
     "metadata": {},
     "outputs": [
      {
       "metadata": {},
       "output_type": "pyout",
       "prompt_number": 19,
       "text": [
        "3881"
       ]
      }
     ],
     "prompt_number": 19
    },
    {
     "cell_type": "markdown",
     "metadata": {},
     "source": [
      "#### Here we see that there are 3,881 \"Old\" Athletes out of 8,618 total (45%)"
     ]
    },
    {
     "cell_type": "markdown",
     "metadata": {},
     "source": [
      "## Create a new boolean variable Gold.Medalist"
     ]
    },
    {
     "cell_type": "markdown",
     "metadata": {},
     "source": [
      "#### this variable will indicate whether or not the athlete has won a gold medal"
     ]
    },
    {
     "cell_type": "code",
     "collapsed": false,
     "input": [
      "olympics['Gold.Medalist'] = olympics['Gold'] > 0"
     ],
     "language": "python",
     "metadata": {},
     "outputs": [],
     "prompt_number": 76
    },
    {
     "cell_type": "code",
     "collapsed": false,
     "input": [
      "count_nonzero(olympics[\"Gold.Medalist\"])"
     ],
     "language": "python",
     "metadata": {},
     "outputs": [
      {
       "metadata": {},
       "output_type": "pyout",
       "prompt_number": 77,
       "text": [
        "2924"
       ]
      }
     ],
     "prompt_number": 77
    },
    {
     "cell_type": "markdown",
     "metadata": {},
     "source": [
      "#### Here we see that there is a total of 2924 Gold Medalists in the data set (33%)"
     ]
    },
    {
     "cell_type": "markdown",
     "metadata": {},
     "source": [
      "# Visualize the medals won by the Top 5 countries using a Bar Chart"
     ]
    },
    {
     "cell_type": "markdown",
     "metadata": {},
     "source": [
      "#### Differentiating between those athletes that are younger than the mean age, and those older than the mean age"
     ]
    },
    {
     "cell_type": "code",
     "collapsed": false,
     "input": [
      "# get a set of booleans for all the different medals \n",
      "bronze = olympics['Bronze'] >= 1\n",
      "silver = olympics['Silver'] >= 1\n",
      "gold   = olympics['Gold']   >= 1\n",
      "\n",
      "# get a set of booleans for the two age groups\n",
      "old = olympics['Old'] == True\n",
      "young = olympics['Old'] == False\n",
      "\n",
      "# get a set booleans for all the countrys in question\n",
      "usa          = olympics.Country == \"United States\"\n",
      "russia       = olympics.Country == \"Russia\"\n",
      "germany      = olympics.Country == \"China\"\n",
      "australia    = olympics.Country == \"Australia\"\n",
      "china        = olympics.Country == \"Germany\"\n",
      "\n",
      "#--------------------- Old Age Group --------------------------#\n",
      "# get counts for each countries bronze medals for the OLD group\n",
      "usaBronzeOld          = len(olympics[usa & bronze & old])\n",
      "russiaBronzeOld       = len(olympics[russia & bronze & old])\n",
      "germanyBronzeOld      = len(olympics[germany & bronze & old])\n",
      "australiaBronzeOld    = len(olympics[australia & bronze & old])\n",
      "chinaBronzeOld        = len(olympics[china & bronze & old])\n",
      "\n",
      "# get counts for each countries silver medals for the OLD group\n",
      "usaSilverOld          = len(olympics[usa & silver & old])\n",
      "russiaSilverOld       = len(olympics[russia & silver & old])\n",
      "germanySilverOld      = len(olympics[germany & silver & old])\n",
      "australiaSilverOld    = len(olympics[australia & silver & old])\n",
      "chinaSilverOld        = len(olympics[china & silver & old])\n",
      "\n",
      "# get counts for each countries gold medals for the OLD group\n",
      "usaGoldOld            = len(olympics[usa & gold & old])\n",
      "russiaGoldOld         = len(olympics[russia & gold & old])\n",
      "germanyGoldOld        = len(olympics[germany & gold & old])\n",
      "australiaGoldOld      = len(olympics[australia & gold & old])\n",
      "chinaGoldOld          = len(olympics[china & gold & old])\n",
      "\n",
      "# create a dictionary <K, V> 'Country Name' : Number of Medals for the OLD group\n",
      "bronzeCountriesOld = {'USA' : usaBronzeOld, 'Russia': russiaBronzeOld, 'Germany': germanyBronzeOld, \n",
      "                   'Australia': australiaBronzeOld, 'China': chinaBronzeOld}\n",
      "\n",
      "silverCountriesOld = {'USA' : usaSilverOld, 'Russia': russiaSilverOld, 'Germany': germanySilverOld, \n",
      "                   'Australia': australiaSilverOld, 'China': chinaSilverOld}\n",
      "\n",
      "goldCountriesOld   = {'USA' : usaGoldOld, 'Russia': russiaGoldOld, 'Germany': germanyGoldOld, \n",
      "                   'Australia': australiaGoldOld, 'China': chinaGoldOld}\n",
      "\n",
      "# build a pandas DataFrame for the OLD group\n",
      "countryOldDF = pd.DataFrame.from_dict([bronzeCountriesOld, silverCountriesOld, goldCountriesOld])\n",
      "countryOldDF = pd.DataFrame(countryOldDF.transpose())\n",
      "countryOldDF.columns = ['Bronze', 'Silver', 'Gold']\n",
      "\n",
      "\n",
      "#---------------------- Young Age Group ------------------------#\n",
      "# get counts for each countries bronze medals for the Young group\n",
      "usaBronzeYoung          = len(olympics[usa & bronze & young])\n",
      "russiaBronzeYoung       = len(olympics[russia & bronze & young])\n",
      "germanyBronzeYoung      = len(olympics[germany & bronze & young])\n",
      "australiaBronzeYoung    = len(olympics[australia & bronze & young])\n",
      "chinaBronzeYoung        = len(olympics[china & bronze & young])\n",
      "\n",
      "# get counts for each countries silver medals for the Young group\n",
      "usaSilverYoung          = len(olympics[usa & silver & young])\n",
      "russiaSilverYoung       = len(olympics[russia & silver & young])\n",
      "germanySilverYoung      = len(olympics[germany & silver & young])\n",
      "australiaSilverYoung    = len(olympics[australia & silver & young])\n",
      "chinaSilverYoung        = len(olympics[china & silver & young])\n",
      "\n",
      "# get counts for each countries gold medals for the Young group\n",
      "usaGoldYoung            = len(olympics[usa & gold & young])\n",
      "russiaGoldYoung         = len(olympics[russia & gold & young])\n",
      "germanyGoldYoung        = len(olympics[germany & gold & young])\n",
      "australiaGoldYoung      = len(olympics[australia & gold & young])\n",
      "chinaGoldYoung          = len(olympics[china & gold & young])\n",
      "\n",
      "# create a dictionary <K, V> 'Country Name' : Number of Medals for the YOUNG group\n",
      "bronzeCountriesYoung = {'USA' : usaBronzeYoung, 'Russia': russiaBronzeYoung, 'Germany': germanyBronzeYoung, \n",
      "                   'Australia': australiaBronzeYoung, 'China': chinaBronzeYoung}\n",
      "\n",
      "silverCountriesYoung = {'USA' : usaSilverYoung, 'Russia': russiaSilverYoung, 'Germany': germanySilverYoung, \n",
      "                   'Australia': australiaSilverYoung, 'China': chinaSilverYoung}\n",
      "\n",
      "goldCountriesYoung   = {'USA' : usaGoldYoung, 'Russia': russiaGoldYoung, 'Germany': germanyGoldYoung, \n",
      "                   'Australia': australiaGoldYoung, 'China': chinaGoldYoung}\n",
      "\n",
      "# build a pandas DataFrame for the YOUNG group\n",
      "countryYoungDF = pd.DataFrame.from_dict([bronzeCountriesYoung, silverCountriesYoung, goldCountriesYoung])\n",
      "countryYoungDF = pd.DataFrame(countryYoungDF.transpose())\n",
      "countryYoungDF.columns = ['Bronze', 'Silver', 'Gold']\n",
      "\n",
      "# plot the OLD DataFrame as a bar chart comparing countries and their medal counts\n",
      "colors = ['orange', 'silver', 'gold']    # Set the colors of the bars to match the medal colors\n",
      "countryOldDF.plot(kind='bar', title=\"Total (OLD)\", color=colors, grid=False)\n",
      "\n",
      "# plot the YOUNG DataFrame as a bar chart comparing countries and their medal counts\n",
      "colors = ['orange', 'silver', 'gold']    # Set the colors of the bars to match the medal colors\n",
      "countryYoungDF.plot(kind='bar', title=\"Total (YOUNG)\", color=colors, grid=False)\n",
      "\n",
      "pl.show()"
     ],
     "language": "python",
     "metadata": {},
     "outputs": [
      {
       "metadata": {},
       "output_type": "display_data",
       "png": "[encoded data removed]",
       "text": [
        "<matplotlib.figure.Figure at 0x10b3955d0>"
       ]
      },
      {
       "metadata": {},
       "output_type": "display_data",
       "png": "[encoded data removed]",
       "text": [
        "<matplotlib.figure.Figure at 0x10b395b10>"
       ]
      }
     ],
     "prompt_number": 20
    },
    {
     "cell_type": "markdown",
     "metadata": {},
     "source": [
      "####  Visualize those same 6 countries and the relative number of medals won, using a \"Horizontal Stacked Bar Chart\""
     ]
    },
    {
     "cell_type": "code",
     "collapsed": false,
     "input": [
      "# get the relative values of the Country Medals Data Frame, summing to 1\n",
      "countryYoungRel = countryYoungDF.div(countryYoungDF.sum(1).astype(float), axis=0)\n",
      "countryOldRel   = countryOldDF.div(countryOldDF.sum(1).astype(float), axis=0)\n",
      "\n",
      "# plot the relative values of the Country Medals (YOUNG)as a bar chart\n",
      "colors = ['orange', 'silver', 'gold']\n",
      "countryYoungRel.plot(kind='barh', stacked=True, title=\"Total Medals (YOUNG): Relative\", color=colors, grid=False)\n",
      "\n",
      "# plot the relative values of the Country Medals (OLD)as a bar chart\n",
      "colors = ['orange', 'silver', 'gold']\n",
      "countryOldRel.plot(kind='barh', stacked=True, title=\"Total Medals (OLD): Relative\", color=colors, grid=False)\n",
      "\n",
      "pl.show()"
     ],
     "language": "python",
     "metadata": {},
     "outputs": [
      {
       "metadata": {},
       "output_type": "display_data",
       "png": "[encoded data removed]",
       "text": [
        "<matplotlib.figure.Figure at 0x10b085d50>"
       ]
      },
      {
       "metadata": {},
       "output_type": "display_data",
       "png": "[encoded data removed]",
       "text": [
        "<matplotlib.figure.Figure at 0x10b085c10>"
       ]
      }
     ],
     "prompt_number": 21
    },
    {
     "cell_type": "markdown",
     "metadata": {},
     "source": [
      "# Implementation of Machine Learning Algorithms"
     ]
    },
    {
     "cell_type": "markdown",
     "metadata": {},
     "source": [
      "### Import sklearn libraries"
     ]
    },
    {
     "cell_type": "code",
     "collapsed": false,
     "input": [
      "import sklearn\n",
      "from sklearn import datasets \n",
      "from sklearn import metrics\n",
      "from sklearn.linear_model import LogisticRegression\n",
      "from sklearn.cross_validation import train_test_split\n",
      "from sklearn.preprocessing import StandardScaler\n",
      "from sklearn.linear_model import SGDClassifier"
     ],
     "language": "python",
     "metadata": {},
     "outputs": [],
     "prompt_number": 22
    },
    {
     "cell_type": "markdown",
     "metadata": {},
     "source": [
      "### Get relevant data and split it into X and y arrays "
     ]
    },
    {
     "cell_type": "markdown",
     "metadata": {},
     "source": [
      "#### generating arrays for predicting the OLD variable"
     ]
    },
    {
     "cell_type": "code",
     "collapsed": false,
     "input": [
      "X = array(olympics[['NewAthlete','Country', 'Year', 'Sport', 'Bronze', 'Silver', 'Gold', 'Total']])\n",
      "y = array(olympics['Old'])"
     ],
     "language": "python",
     "metadata": {},
     "outputs": [],
     "prompt_number": 23
    },
    {
     "cell_type": "markdown",
     "metadata": {},
     "source": [
      "#### generating arrays for predicting the Gold.Medalist variable"
     ]
    },
    {
     "cell_type": "code",
     "collapsed": false,
     "input": [
      "X2 = array(olympics[['NewAthlete','Country', 'Year', 'Sport']])\n",
      "y2 = array(olympics['Gold.Medalist'])"
     ],
     "language": "python",
     "metadata": {},
     "outputs": [],
     "prompt_number": 81
    },
    {
     "cell_type": "markdown",
     "metadata": {},
     "source": [
      "### Factorize the categorical variables 'NewAthlete', 'Country' and 'Sports'\n",
      "#### This gives us a set of 2-arrays, array[0] is an array of numerical values that are mapped the the categorical values in array[1]. The numerical values can then be used in the logistic regression model"
     ]
    },
    {
     "cell_type": "code",
     "collapsed": false,
     "input": [
      "athlete_factors  = pd.factorize(olympics.NewAthlete)\n",
      "country_factors  = pd.factorize(olympics.Country)\n",
      "sport_factors    = pd.factorize(olympics.Sport) "
     ],
     "language": "python",
     "metadata": {},
     "outputs": [],
     "prompt_number": 24
    },
    {
     "cell_type": "markdown",
     "metadata": {},
     "source": [
      "#### Here we can see the numeric factors representing the athletes. We know that Michael Phelps is the athlete in the first three occurences, and we can see from out factorized array that Michael Phelps must map to the numeric value 0"
     ]
    },
    {
     "cell_type": "code",
     "collapsed": false,
     "input": [
      "athlete_factors[0]"
     ],
     "language": "python",
     "metadata": {},
     "outputs": [
      {
       "metadata": {},
       "output_type": "pyout",
       "prompt_number": 25,
       "text": [
        "array([   0,    0,    0, ..., 6953, 6954, 6955])"
       ]
      }
     ],
     "prompt_number": 25
    },
    {
     "cell_type": "markdown",
     "metadata": {},
     "source": [
      "#### Here we verify that indeed 0 maps to Michael Phelps"
     ]
    },
    {
     "cell_type": "code",
     "collapsed": false,
     "input": [
      "athlete_factors[1][0]"
     ],
     "language": "python",
     "metadata": {},
     "outputs": [
      {
       "metadata": {},
       "output_type": "pyout",
       "prompt_number": 26,
       "text": [
        "'Michael Phelps'"
       ]
      }
     ],
     "prompt_number": 26
    },
    {
     "cell_type": "markdown",
     "metadata": {},
     "source": [
      "#### Looking at the index of categorical 'NewAthlete' variables we see the mapping of distinct athlete names"
     ]
    },
    {
     "cell_type": "code",
     "collapsed": false,
     "input": [
      "athlete_factors[1]"
     ],
     "language": "python",
     "metadata": {},
     "outputs": [
      {
       "metadata": {},
       "output_type": "pyout",
       "prompt_number": 27,
       "text": [
        "Index([u'Michael Phelps', u'Natalie Coughlin', u'Aleksey Nemov', u'Alicia Coutts', u'Missy Franklin', u'Ryan Lochte', u'Allison Schmitt', u'Ian Thorpe', u'Dara Torres', u'Cindy Klassen', u'Nastia Liukin', u'Marit Bj\ufffdrgen', u'Sun Yang', u'Kirsty Coventry', u'Libby Lenton-Trickett', u'Inge de Bruijn', u'Petria Thomas', u'Gary Hall Jr.', u'Michael Klim', u'Susie O'Neill', u'Jenny Thompson', u'Pieter van den Hoogenband', u'An Hyeon-Su', u'Aliya Mustafina', u'Shawn Johnson', u'Dmitry Sautin', u'Leontien Zijlaard-van Moorsel', u'Petter Northug Jr.', u'Ole Einar Bj\ufffdrndalen', u'Janica Kostelic', u'Nathan Adrian', u'Yannick Agnel', u'Brittany Elmslie', u'Matt Grevers', u'Ryosuke Irie', u'Cullen Jones', u'Ranomi Kromowidjojo', u'Camille Muffat', u'Mel Schlanger', u'Emily Seebohm', u'Rebecca Soni', u'Satomi Suzuki', u'Dana Vollmer', u'Alain Bernard', u'L\ufffdszl\ufffd Cseh Jr.', u'Margaret Hoelzer', u'Katie Hoff', u'Leisel Jones', u'Kosuke Kitajima', u'Andrew Lauterstein', u'Jason Lezak', u'Pang Jiaying', u'Aaron Peirsol', u'Steph Rice', u'Jess Schipper', u'Eamon Sullivan', u'Amanda Beard', u'Antje Buschschulte', u'Ian Crocker', u'Grant Hackett', u'Brendan Hansen', u'Jodie Henry', u'Otylia Jedrzejczak', u'Laure Manaudou', u'Kaitlin Sandeno', u'Roland Schoeman', u'Therese Alshammar', u'Yana Klochkova', u'Lenny Krayzelburg', u'Massimiliano Rosolino', u'Matt Welsh', u'Lee Jeong-Su', u'Apolo Anton Ohno', u'Wang Meng', u'Jin Seon-Yu', u'Lee Ho-Seok', u'Marc Gagnon', u'Yang Yang (A)', u'Stephanie Beckert', u'Martina S\ufffdbl\ufffdkov\ufffd', u'Enrico Fabris', u'Chad Hedrick', u'Jochem Uytdehaage', u'Sabine V\ufffdlker', u'Gregor Schlierenzauer', u'Lars Byst\ufffdl', u'Johnny Spillane', u'Felix Gottwald', u'Georg Hettich', u'Samppa Lajunen', u'Aly Raisman', u'Kohei Uchimura', u'Zou Kai', u'Cheng Fei', u'Yang Wei', u'Yang Yilin', u'Marian Dragulescu', u'Paul Hamm', u'Carly Patterson', u'Catalina Ponor', ...], dtype='object')"
       ]
      }
     ],
     "prompt_number": 27
    },
    {
     "cell_type": "markdown",
     "metadata": {},
     "source": [
      "#### Inserting in the new numeric arrays that are mapped to the Athlete, Country and Sport variables "
     ]
    },
    {
     "cell_type": "code",
     "collapsed": false,
     "input": [
      "X[:,0] = athlete_factors[0]\n",
      "X[:,1] = country_factors[0]\n",
      "X[:,3] = sport_factors[0]"
     ],
     "language": "python",
     "metadata": {},
     "outputs": [],
     "prompt_number": 28
    },
    {
     "cell_type": "code",
     "collapsed": false,
     "input": [
      "X2[:,0] = athlete_factors[0]\n",
      "X2[:,1] = country_factors[0]\n",
      "X2[:,3] = sport_factors[0]"
     ],
     "language": "python",
     "metadata": {},
     "outputs": [],
     "prompt_number": 95
    },
    {
     "cell_type": "markdown",
     "metadata": {},
     "source": [
      "### Take a 75% training set and a 25% testing set using the scikit-learn capabilities"
     ]
    },
    {
     "cell_type": "code",
     "collapsed": false,
     "input": [
      "X_train, X_test, y_train, y_test = train_test_split(X, y, test_size=0.25, random_state=33)"
     ],
     "language": "python",
     "metadata": {},
     "outputs": [],
     "prompt_number": 82
    },
    {
     "cell_type": "code",
     "collapsed": false,
     "input": [
      "X2_train, X2_test, y2_train, y2_test = train_test_split(X2, y2, test_size=0.25, random_state=33)"
     ],
     "language": "python",
     "metadata": {},
     "outputs": [],
     "prompt_number": 96
    },
    {
     "cell_type": "markdown",
     "metadata": {},
     "source": [
      "### Scale the features so that they have comparable impact on the classification algorithm"
     ]
    },
    {
     "cell_type": "code",
     "collapsed": false,
     "input": [
      "scaler = StandardScaler().fit(X_train)\n",
      "X_train = scaler.transform(X_train)\n",
      "X_test = scaler.transform(X_test)"
     ],
     "language": "python",
     "metadata": {},
     "outputs": [],
     "prompt_number": 86
    },
    {
     "cell_type": "code",
     "collapsed": false,
     "input": [
      "scaler2 = StandardScaler().fit(X2_train)\n",
      "X2_train = scaler.transform(X2_train)\n",
      "X2_test = scaler.transform(X2_test)"
     ],
     "language": "python",
     "metadata": {},
     "outputs": [],
     "prompt_number": 97
    },
    {
     "cell_type": "markdown",
     "metadata": {},
     "source": [
      "# Visualizing the TestData"
     ]
    },
    {
     "cell_type": "markdown",
     "metadata": {},
     "source": [
      "### Plotting a scatterplot of the training data (Athlete vs. Country)"
     ]
    },
    {
     "cell_type": "code",
     "collapsed": false,
     "input": [
      "# declaration of colors and labels arrays\n",
      "colors = ['red', 'greenyellow']\n",
      "labels=['Young', 'Old']\n",
      "\n",
      "# setting the figure\n",
      "fig = plt.figure()\n",
      "ax = fig.add_subplot(1, 1, 1)\n",
      "\n",
      "# labeling the axes\n",
      "ax.set_xlabel('Athlete')\n",
      "ax.set_ylabel('Sport')\n",
      "ax.set_title('Athlete vs. Sport : Correlation to Age')\n",
      "\n",
      "for i in xrange (len(colors)):\n",
      "    px = X_test[:, 0][y_test == i]   \n",
      "    py = X_test[:, 3][y_test == i]\n",
      "    plt.scatter(px, py, c=colors[i], label=labels[i])\n",
      "\n",
      "pylab.legend(title=\"Old?\")\n",
      "pylab.legend(loc='upper right')"
     ],
     "language": "python",
     "metadata": {},
     "outputs": [
      {
       "metadata": {},
       "output_type": "pyout",
       "prompt_number": 31,
       "text": [
        "<matplotlib.legend.Legend at 0x10b245810>"
       ]
      },
      {
       "metadata": {},
       "output_type": "display_data",
       "png": "[encoded data removed]",
       "text": [
        "<matplotlib.figure.Figure at 0x10b250550>"
       ]
      }
     ],
     "prompt_number": 31
    },
    {
     "cell_type": "code",
     "collapsed": false,
     "input": [
      "# setting the figure\n",
      "fig = plt.figure()\n",
      "ax = fig.add_subplot(1, 1, 1)\n",
      "\n",
      "# labeling the axes\n",
      "ax.set_xlabel('Athlete')\n",
      "ax.set_ylabel('Country')\n",
      "ax.set_title('Athlete vs. Country : Correlation to Age')\n",
      "\n",
      "for i in xrange (len(colors)):\n",
      "    px = X_test[:, 0][y_test == i]\n",
      "    py = X_test[:, 1][y_test == i]\n",
      "    plt.scatter(px, py, c=colors[i], label=labels[i])\n",
      "\n",
      "pylab.legend(title=\"Literacy\")\n",
      "pylab.legend(loc='upper right')"
     ],
     "language": "python",
     "metadata": {},
     "outputs": [
      {
       "metadata": {},
       "output_type": "pyout",
       "prompt_number": 32,
       "text": [
        "<matplotlib.legend.Legend at 0x10b237850>"
       ]
      },
      {
       "metadata": {},
       "output_type": "display_data",
       "png": "[encoded data removed]",
       "text": [
        "<matplotlib.figure.Figure at 0x10b36e4d0>"
       ]
      }
     ],
     "prompt_number": 32
    },
    {
     "cell_type": "code",
     "collapsed": false,
     "input": [
      "# setting the figure\n",
      "fig = plt.figure()\n",
      "ax = fig.add_subplot(1, 1, 1)\n",
      "\n",
      "# labeling the axes\n",
      "ax.set_xlabel('Sport')\n",
      "ax.set_ylabel('Country')\n",
      "ax.set_title('Sport vs. Country : Correlation to Age')\n",
      "\n",
      "for i in xrange (len(colors)):\n",
      "    px = X_test[:, 3][y_test == i]   \n",
      "    py = X_test[:, 1][y_test == i]\n",
      "    plt.scatter(px, py, c=colors[i], label=labels[i])\n",
      "\n",
      "pylab.legend(title=\"Old?\")\n",
      "pylab.legend(loc='upper right')"
     ],
     "language": "python",
     "metadata": {},
     "outputs": [
      {
       "metadata": {},
       "output_type": "pyout",
       "prompt_number": 33,
       "text": [
        "<matplotlib.legend.Legend at 0x10b7b9890>"
       ]
      },
      {
       "metadata": {},
       "output_type": "display_data",
       "png": "[encoded data removed]",
       "text": [
        "<matplotlib.figure.Figure at 0x10b0ebdd0>"
       ]
      }
     ],
     "prompt_number": 33
    },
    {
     "cell_type": "markdown",
     "metadata": {},
     "source": [
      "# Fit a logistic regression model to the data"
     ]
    },
    {
     "cell_type": "code",
     "collapsed": false,
     "input": [
      "model = LogisticRegression()\n",
      "model.fit(X_train, y_train)\n",
      "print(model)"
     ],
     "language": "python",
     "metadata": {},
     "outputs": [
      {
       "output_type": "stream",
       "stream": "stdout",
       "text": [
        "LogisticRegression(C=1.0, class_weight=None, dual=False, fit_intercept=True,\n",
        "          intercept_scaling=1, penalty='l2', random_state=None, tol=0.0001)\n"
       ]
      }
     ],
     "prompt_number": 34
    },
    {
     "cell_type": "code",
     "collapsed": false,
     "input": [
      "model2 = LogisticRegression()\n",
      "model2.fit(X2_train, y2_train)\n",
      "print(model2)"
     ],
     "language": "python",
     "metadata": {},
     "outputs": [
      {
       "output_type": "stream",
       "stream": "stdout",
       "text": [
        "LogisticRegression(C=1.0, class_weight=None, dual=False, fit_intercept=True,\n",
        "          intercept_scaling=1, penalty='l2', random_state=None, tol=0.0001)\n"
       ]
      }
     ],
     "prompt_number": 91
    },
    {
     "cell_type": "markdown",
     "metadata": {},
     "source": [
      "#### Make Predictions for the 'Old' variable"
     ]
    },
    {
     "cell_type": "code",
     "collapsed": false,
     "input": [
      "expected = y_train                   # the expected 'Old' boolean variable\n",
      "predicted = model.predict(X_train)   # predict the expected value based on the model"
     ],
     "language": "python",
     "metadata": {},
     "outputs": [],
     "prompt_number": 35
    },
    {
     "cell_type": "markdown",
     "metadata": {},
     "source": [
      "#### Make Predictions for the 'Gold.Medalist' variable"
     ]
    },
    {
     "cell_type": "code",
     "collapsed": false,
     "input": [
      "expected2 = y2_train                   # the expected 'Old' boolean variable\n",
      "predicted2 = model2.predict(X2_train)  # predict the expected value based on the model"
     ],
     "language": "python",
     "metadata": {},
     "outputs": [],
     "prompt_number": 93
    },
    {
     "cell_type": "markdown",
     "metadata": {},
     "source": [
      "#### Summarize the fit of the model "
     ]
    },
    {
     "cell_type": "code",
     "collapsed": false,
     "input": [
      "print(metrics.classification_report(expected,predicted)) \n",
      "print(metrics.confusion_matrix(expected,predicted))"
     ],
     "language": "python",
     "metadata": {},
     "outputs": [
      {
       "output_type": "stream",
       "stream": "stdout",
       "text": [
        "             precision    recall  f1-score   support\n",
        "\n",
        "      False       0.56      0.84      0.67      3544\n",
        "       True       0.50      0.19      0.27      2919\n",
        "\n",
        "avg / total       0.53      0.55      0.49      6463\n",
        "\n",
        "[[2989  555]\n",
        " [2367  552]]\n"
       ]
      }
     ],
     "prompt_number": 36
    },
    {
     "cell_type": "code",
     "collapsed": false,
     "input": [
      "print(metrics.classification_report(expected2,predicted2)) \n",
      "print(metrics.confusion_matrix(expected2,predicted2))"
     ],
     "language": "python",
     "metadata": {},
     "outputs": [
      {
       "output_type": "stream",
       "stream": "stdout",
       "text": [
        "             precision    recall  f1-score   support\n",
        "\n",
        "      False       0.66      1.00      0.80      4269\n",
        "       True       0.00      0.00      0.00      2194\n",
        "\n",
        "avg / total       0.44      0.66      0.53      6463\n",
        "\n",
        "[[4269    0]\n",
        " [2194    0]]\n"
       ]
      },
      {
       "output_type": "stream",
       "stream": "stderr",
       "text": [
        "/Library/Frameworks/Python.framework/Versions/2.7/lib/python2.7/site-packages/sklearn/metrics/metrics.py:1771: UndefinedMetricWarning: Precision and F-score are ill-defined and being set to 0.0 in labels with no predicted samples.\n",
        "  'precision', 'predicted', average, warn_for)\n"
       ]
      }
     ],
     "prompt_number": 94
    },
    {
     "cell_type": "code",
     "collapsed": false,
     "input": [
      "# confusion matrix\n",
      "# [TP][FP]\n",
      "# [FN][TN]"
     ],
     "language": "python",
     "metadata": {},
     "outputs": [],
     "prompt_number": 37
    },
    {
     "cell_type": "markdown",
     "metadata": {},
     "source": [
      "### Run the model on the test data"
     ]
    },
    {
     "cell_type": "code",
     "collapsed": false,
     "input": [
      "expected = y_test                   # the expected 'Old' boolean variable\n",
      "predicted = model.predict(X_test)   # predict the expected value based on the model"
     ],
     "language": "python",
     "metadata": {},
     "outputs": [],
     "prompt_number": 38
    },
    {
     "cell_type": "markdown",
     "metadata": {},
     "source": [
      "#### Summarize the fit of the model on the test data"
     ]
    },
    {
     "cell_type": "code",
     "collapsed": false,
     "input": [
      "print(metrics.classification_report(expected,predicted)) \n",
      "print(metrics.confusion_matrix(expected,predicted))"
     ],
     "language": "python",
     "metadata": {},
     "outputs": [
      {
       "output_type": "stream",
       "stream": "stdout",
       "text": [
        "             precision    recall  f1-score   support\n",
        "\n",
        "      False       0.56      0.85      0.67      1193\n",
        "       True       0.47      0.16      0.24       962\n",
        "\n",
        "avg / total       0.52      0.54      0.48      2155\n",
        "\n",
        "[[1014  179]\n",
        " [ 806  156]]\n"
       ]
      }
     ],
     "prompt_number": 39
    },
    {
     "cell_type": "code",
     "collapsed": false,
     "input": [
      "print(model.score(X_train, y_train))"
     ],
     "language": "python",
     "metadata": {},
     "outputs": [
      {
       "output_type": "stream",
       "stream": "stdout",
       "text": [
        "0.547887977719\n"
       ]
      }
     ],
     "prompt_number": 40
    },
    {
     "cell_type": "code",
     "collapsed": false,
     "input": [
      "print(model.score(X_test, y_test))"
     ],
     "language": "python",
     "metadata": {},
     "outputs": [
      {
       "output_type": "stream",
       "stream": "stdout",
       "text": [
        "0.542923433875\n"
       ]
      }
     ],
     "prompt_number": 41
    },
    {
     "cell_type": "markdown",
     "metadata": {},
     "source": [
      "# Implement a Stochastic Gradient Descent (SGD) Machine Learning Algorithm"
     ]
    },
    {
     "cell_type": "markdown",
     "metadata": {},
     "source": [
      "#### Train the classifier."
     ]
    },
    {
     "cell_type": "code",
     "collapsed": false,
     "input": [
      "clf = SGDClassifier()\n",
      "clf.fit(X_train, y_train)\n",
      "\n",
      "# Write out the classifier\u2019s equation.\n",
      "print 'Classifier Equation: '\n",
      "print str(clf.intercept_[0]) + ' + (' + str(clf.coef_[0][0]) + ')* x1 + (' + str(clf.coef_[0][1]) + ')* x2 + (' + str(clf.coef_[0][2]) + ')* x3 + (' + str(clf.coef_[0][3]) + ')* x4  + (' + str(clf.coef_[0][4]) + ')* x5 + (' + str(clf.coef_[0][5]) + ')* x6 + (' + str(clf.coef_[0][6]) + ')* x7 + (' + str(clf.coef_[0][7]) + ')* x8 = 0'"
     ],
     "language": "python",
     "metadata": {},
     "outputs": [
      {
       "output_type": "stream",
       "stream": "stdout",
       "text": [
        "Classifier Equation: \n",
        "-0.692962228269 + (-0.519121742348)* x1 + (0.526800743126)* x2 + (0.840674075197)* x3 + (1.26462755152)* x4  + (0.371593184188)* x5 + (0.962493477883)* x6 + (-0.199522722512)* x7 + (1.37161950048)* x8 = 0\n"
       ]
      }
     ],
     "prompt_number": 42
    },
    {
     "cell_type": "markdown",
     "metadata": {},
     "source": [
      "### Discussion of the Coefficient values"
     ]
    },
    {
     "cell_type": "markdown",
     "metadata": {},
     "source": [
      "* Intercept  = -0.69\n",
      "* Athlete    = -0.52\n",
      "* Country    = +0.53\n",
      "* Year       = +0.84\n",
      "* Sport      = +1.26\n",
      "* Bronze     = +0.37\n",
      "* Silver     = +0.96\n",
      "* Gold       = -0.20\n",
      "* Total      = +1.37"
     ]
    },
    {
     "cell_type": "markdown",
     "metadata": {},
     "source": [
      "### What is the classifier\u2019s accuracy on the training data?"
     ]
    },
    {
     "cell_type": "code",
     "collapsed": false,
     "input": [
      "y_train_prediction = clf.predict(X_train)\n",
      "metrics.accuracy_score(y_train, y_train_prediction)"
     ],
     "language": "python",
     "metadata": {},
     "outputs": [
      {
       "metadata": {},
       "output_type": "pyout",
       "prompt_number": 43,
       "text": [
        "0.51555005415441746"
       ]
      }
     ],
     "prompt_number": 43
    },
    {
     "cell_type": "markdown",
     "metadata": {},
     "source": [
      "#### The classifiers accuracy on the training set it approximately 51.6%"
     ]
    },
    {
     "cell_type": "markdown",
     "metadata": {},
     "source": [
      "### What is the classifiers accuracy on the test set?"
     ]
    },
    {
     "cell_type": "code",
     "collapsed": false,
     "input": [
      "y_test_prediction = clf.predict(X_test)\n",
      "metrics.accuracy_score(y_test, y_test_prediction)"
     ],
     "language": "python",
     "metadata": {},
     "outputs": [
      {
       "metadata": {},
       "output_type": "pyout",
       "prompt_number": 44,
       "text": [
        "0.49930394431554526"
       ]
      }
     ],
     "prompt_number": 44
    },
    {
     "cell_type": "markdown",
     "metadata": {},
     "source": [
      "#### The classifiers accuracy on the test set it approximately 49.9%"
     ]
    },
    {
     "cell_type": "markdown",
     "metadata": {},
     "source": [
      "## What is the confusion matrix and what is the interpretation of each number in the matrix?"
     ]
    },
    {
     "cell_type": "markdown",
     "metadata": {},
     "source": [
      "### Training Data confusion matrix"
     ]
    },
    {
     "cell_type": "code",
     "collapsed": false,
     "input": [
      "train_confusion = metrics.confusion_matrix(y_train, y_train_prediction)\n",
      "train_confusion"
     ],
     "language": "python",
     "metadata": {},
     "outputs": [
      {
       "metadata": {},
       "output_type": "pyout",
       "prompt_number": 45,
       "text": [
        "array([[2324, 1220],\n",
        "       [1911, 1008]])"
       ]
      }
     ],
     "prompt_number": 45
    },
    {
     "cell_type": "code",
     "collapsed": false,
     "input": [
      "# confusion matrix - training set\n",
      "# [TP][FP]\n",
      "# [FN][TN]"
     ],
     "language": "python",
     "metadata": {},
     "outputs": [],
     "prompt_number": 46
    },
    {
     "cell_type": "markdown",
     "metadata": {},
     "source": [
      "### Test Data confusion matrix"
     ]
    },
    {
     "cell_type": "code",
     "collapsed": false,
     "input": [
      "test_confusion = metrics.confusion_matrix(y_test, y_test_prediction)\n",
      "test_confusion"
     ],
     "language": "python",
     "metadata": {},
     "outputs": [
      {
       "metadata": {},
       "output_type": "pyout",
       "prompt_number": 47,
       "text": [
        "array([[772, 421],\n",
        "       [658, 304]])"
       ]
      }
     ],
     "prompt_number": 47
    },
    {
     "cell_type": "code",
     "collapsed": false,
     "input": [
      "# confusion matrix - test set\n",
      "# [TP][FP]\n",
      "# [FN][TN]"
     ],
     "language": "python",
     "metadata": {},
     "outputs": [],
     "prompt_number": 48
    },
    {
     "cell_type": "markdown",
     "metadata": {},
     "source": [
      "# SVM Classification"
     ]
    },
    {
     "cell_type": "code",
     "collapsed": false,
     "input": [
      "from sklearn.svm import SVC"
     ],
     "language": "python",
     "metadata": {},
     "outputs": [],
     "prompt_number": 49
    },
    {
     "cell_type": "code",
     "collapsed": false,
     "input": [
      "model = SVC() \n",
      "model.fit(X_train,y_train) \n",
      "print(model)"
     ],
     "language": "python",
     "metadata": {},
     "outputs": [
      {
       "output_type": "stream",
       "stream": "stdout",
       "text": [
        "SVC(C=1.0, cache_size=200, class_weight=None, coef0=0.0, degree=3, gamma=0.0,\n",
        "  kernel='rbf', max_iter=-1, probability=False, random_state=None,\n",
        "  shrinking=True, tol=0.001, verbose=False)\n"
       ]
      }
     ],
     "prompt_number": 50
    },
    {
     "cell_type": "code",
     "collapsed": false,
     "input": [
      "expected = y_train \n",
      "predicted = model.predict(X_train)"
     ],
     "language": "python",
     "metadata": {},
     "outputs": [],
     "prompt_number": 51
    },
    {
     "cell_type": "code",
     "collapsed": false,
     "input": [
      "print(metrics.classification_report(expected,predicted))"
     ],
     "language": "python",
     "metadata": {},
     "outputs": [
      {
       "output_type": "stream",
       "stream": "stdout",
       "text": [
        "             precision    recall  f1-score   support\n",
        "\n",
        "      False       0.60      0.78      0.68      3544\n",
        "       True       0.58      0.37      0.45      2919\n",
        "\n",
        "avg / total       0.59      0.59      0.57      6463\n",
        "\n"
       ]
      }
     ],
     "prompt_number": 52
    },
    {
     "cell_type": "code",
     "collapsed": false,
     "input": [
      " print(metrics.confusion_matrix(expected,predicted))"
     ],
     "language": "python",
     "metadata": {},
     "outputs": [
      {
       "output_type": "stream",
       "stream": "stdout",
       "text": [
        "[[2769  775]\n",
        " [1849 1070]]\n"
       ]
      }
     ],
     "prompt_number": 53
    },
    {
     "cell_type": "code",
     "collapsed": false,
     "input": [
      "print(model.score(X_train, y_train))"
     ],
     "language": "python",
     "metadata": {},
     "outputs": [
      {
       "output_type": "stream",
       "stream": "stdout",
       "text": [
        "0.593996596008\n"
       ]
      }
     ],
     "prompt_number": 54
    },
    {
     "cell_type": "code",
     "collapsed": false,
     "input": [
      "print(model.score(X_test, y_test))"
     ],
     "language": "python",
     "metadata": {},
     "outputs": [
      {
       "output_type": "stream",
       "stream": "stdout",
       "text": [
        "0.588399071926\n"
       ]
      }
     ],
     "prompt_number": 55
    },
    {
     "cell_type": "markdown",
     "metadata": {},
     "source": [
      "# SVM Regression"
     ]
    },
    {
     "cell_type": "code",
     "collapsed": false,
     "input": [
      "from sklearn.svm import SVR"
     ],
     "language": "python",
     "metadata": {},
     "outputs": [],
     "prompt_number": 56
    },
    {
     "cell_type": "code",
     "collapsed": false,
     "input": [
      "model = SVR()\n",
      "model.fit(X_train,y_train) \n",
      "print(model)"
     ],
     "language": "python",
     "metadata": {},
     "outputs": [
      {
       "output_type": "stream",
       "stream": "stdout",
       "text": [
        "SVR(C=1.0, cache_size=200, coef0=0.0, degree=3, epsilon=0.1, gamma=0.0,\n",
        "  kernel='rbf', max_iter=-1, probability=False, random_state=None,\n",
        "  shrinking=True, tol=0.001, verbose=False)\n"
       ]
      }
     ],
     "prompt_number": 57
    },
    {
     "cell_type": "code",
     "collapsed": false,
     "input": [
      "expected = y_train \n",
      "predicted = model.predict(X_train)"
     ],
     "language": "python",
     "metadata": {},
     "outputs": [],
     "prompt_number": 58
    },
    {
     "cell_type": "code",
     "collapsed": false,
     "input": [
      "mse=np.mean((predicted-expected)**2)  "
     ],
     "language": "python",
     "metadata": {},
     "outputs": [],
     "prompt_number": 59
    },
    {
     "cell_type": "code",
     "collapsed": false,
     "input": [
      "print(mse)"
     ],
     "language": "python",
     "metadata": {},
     "outputs": [
      {
       "output_type": "stream",
       "stream": "stdout",
       "text": [
        "0.266451423801\n"
       ]
      }
     ],
     "prompt_number": 60
    },
    {
     "cell_type": "code",
     "collapsed": false,
     "input": [
      "print(model.score(X_train, y_train))"
     ],
     "language": "python",
     "metadata": {},
     "outputs": [
      {
       "output_type": "stream",
       "stream": "stdout",
       "text": [
        "-0.0758669065467\n"
       ]
      }
     ],
     "prompt_number": 61
    },
    {
     "cell_type": "code",
     "collapsed": false,
     "input": [
      "print(model.score(X_test, y_test))"
     ],
     "language": "python",
     "metadata": {},
     "outputs": [
      {
       "output_type": "stream",
       "stream": "stdout",
       "text": [
        "-0.144318378336\n"
       ]
      }
     ],
     "prompt_number": 62
    },
    {
     "cell_type": "markdown",
     "metadata": {},
     "source": [
      "# GaussianNaiveBayes"
     ]
    },
    {
     "cell_type": "code",
     "collapsed": false,
     "input": [
      "from sklearn  import datasets\n",
      "from sklearn.naive_bayes import GaussianNB"
     ],
     "language": "python",
     "metadata": {},
     "outputs": [],
     "prompt_number": 63
    },
    {
     "cell_type": "code",
     "collapsed": false,
     "input": [
      "model = GaussianNB()\n",
      "model.fit(X_train,y_train) \n",
      "print(model)"
     ],
     "language": "python",
     "metadata": {},
     "outputs": [
      {
       "output_type": "stream",
       "stream": "stdout",
       "text": [
        "GaussianNB()\n"
       ]
      }
     ],
     "prompt_number": 64
    },
    {
     "cell_type": "code",
     "collapsed": false,
     "input": [
      "expected = y_train \n",
      "predicted = model.predict(X_train)"
     ],
     "language": "python",
     "metadata": {},
     "outputs": [],
     "prompt_number": 65
    },
    {
     "cell_type": "code",
     "collapsed": false,
     "input": [
      "print(metrics.classification_report(expected,predicted)) \n",
      "print(metrics.confusion_matrix(expected,predicted))"
     ],
     "language": "python",
     "metadata": {},
     "outputs": [
      {
       "output_type": "stream",
       "stream": "stdout",
       "text": [
        "             precision    recall  f1-score   support\n",
        "\n",
        "      False       0.64      0.36      0.46      3544\n",
        "       True       0.49      0.76      0.60      2919\n",
        "\n",
        "avg / total       0.57      0.54      0.52      6463\n",
        "\n",
        "[[1272 2272]\n",
        " [ 714 2205]]\n"
       ]
      }
     ],
     "prompt_number": 66
    },
    {
     "cell_type": "code",
     "collapsed": false,
     "input": [
      "print(model.score(X_train, y_train))"
     ],
     "language": "python",
     "metadata": {},
     "outputs": [
      {
       "output_type": "stream",
       "stream": "stdout",
       "text": [
        "0.537985455671\n"
       ]
      }
     ],
     "prompt_number": 67
    },
    {
     "cell_type": "code",
     "collapsed": false,
     "input": [
      "print(model.score(X_test, y_test))"
     ],
     "language": "python",
     "metadata": {},
     "outputs": [
      {
       "output_type": "stream",
       "stream": "stdout",
       "text": [
        "0.543851508121\n"
       ]
      }
     ],
     "prompt_number": 68
    },
    {
     "cell_type": "markdown",
     "metadata": {},
     "source": [
      "# k-Nearest Neighbor"
     ]
    },
    {
     "cell_type": "code",
     "collapsed": false,
     "input": [
      "from sklearn.neighbors import KNeighborsClassifier"
     ],
     "language": "python",
     "metadata": {},
     "outputs": [],
     "prompt_number": 69
    },
    {
     "cell_type": "code",
     "collapsed": false,
     "input": [
      "# fit a k-nearest neighbor model to the data\n",
      "model = KNeighborsClassifier(n_neighbors=2000, algorithm='ball_tree')\n",
      "model.fit(X_train,y_train) \n",
      "print(model)"
     ],
     "language": "python",
     "metadata": {},
     "outputs": [
      {
       "output_type": "stream",
       "stream": "stdout",
       "text": [
        "KNeighborsClassifier(algorithm='ball_tree', leaf_size=30, metric='minkowski',\n",
        "           metric_params=None, n_neighbors=2000, p=2, weights='uniform')\n"
       ]
      }
     ],
     "prompt_number": 70
    },
    {
     "cell_type": "code",
     "collapsed": false,
     "input": [
      "# make predictions\n",
      "expected = y_train \n",
      "predicted = model.predict(X_train)"
     ],
     "language": "python",
     "metadata": {},
     "outputs": [],
     "prompt_number": 71
    },
    {
     "cell_type": "code",
     "collapsed": false,
     "input": [
      "# summarize the fit of the model\n",
      "print(metrics.classification_report(expected,predicted)) "
     ],
     "language": "python",
     "metadata": {},
     "outputs": [
      {
       "output_type": "stream",
       "stream": "stdout",
       "text": [
        "             precision    recall  f1-score   support\n",
        "\n",
        "      False       0.55      0.99      0.71      3544\n",
        "       True       0.53      0.01      0.03      2919\n",
        "\n",
        "avg / total       0.54      0.55      0.40      6463\n",
        "\n"
       ]
      }
     ],
     "prompt_number": 72
    },
    {
     "cell_type": "code",
     "collapsed": false,
     "input": [
      "# summarize the confusion matrix\n",
      "print(metrics.confusion_matrix(expected,predicted))"
     ],
     "language": "python",
     "metadata": {},
     "outputs": [
      {
       "output_type": "stream",
       "stream": "stdout",
       "text": [
        "[[3510   34]\n",
        " [2880   39]]\n"
       ]
      }
     ],
     "prompt_number": 73
    },
    {
     "cell_type": "code",
     "collapsed": false,
     "input": [
      "print(model.score(X_train, y_train))"
     ],
     "language": "python",
     "metadata": {},
     "outputs": [
      {
       "output_type": "stream",
       "stream": "stdout",
       "text": [
        "0.549125792975\n"
       ]
      }
     ],
     "prompt_number": 74
    },
    {
     "cell_type": "code",
     "collapsed": false,
     "input": [
      "print(model.score(X_test, y_test))"
     ],
     "language": "python",
     "metadata": {},
     "outputs": [
      {
       "output_type": "stream",
       "stream": "stdout",
       "text": [
        "0.548027842227\n"
       ]
      }
     ],
     "prompt_number": 75
    },
    {
     "cell_type": "code",
     "collapsed": false,
     "input": [],
     "language": "python",
     "metadata": {},
     "outputs": []
    }
   ],
   "metadata": {}
  }
 ]
}