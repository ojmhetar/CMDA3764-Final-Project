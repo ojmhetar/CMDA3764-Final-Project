{
 "metadata": {
  "name": "",
  "signature": "sha256:82c8c4228c06359005529f5923700d5b1137f29cbbb06e4076a98ab0ffc2e0ad"
 },
 "nbformat": 3,
 "nbformat_minor": 0,
 "worksheets": [
  {
   "cells": [
    {
     "cell_type": "markdown",
     "metadata": {},
     "source": [
      "# CMDA-3654 Final Project\n",
      "## Team-08 | Olympics Data\n",
      "#### Ryan Connors | Ojas Mhetar | Allan Chua | Omar Malik"
     ]
    },
    {
     "cell_type": "markdown",
     "metadata": {},
     "source": [
      "# Setup and library imports "
     ]
    },
    {
     "cell_type": "code",
     "collapsed": false,
     "input": [
      "# enable inline plotting\n",
      "%pylab inline\n",
      "\n",
      "# import libraries\n",
      "import pandas as pd\n",
      "import matplotlib as mp\n",
      "import matplotlib.pyplot as plt\n",
      "import pylab as pl\n",
      "import pickle\n",
      "import xlrd"
     ],
     "language": "python",
     "metadata": {},
     "outputs": [
      {
       "output_type": "stream",
       "stream": "stdout",
       "text": [
        "Populating the interactive namespace from numpy and matplotlib\n",
        "Using matplotlib backend: MacOSX\n"
       ]
      },
      {
       "output_type": "stream",
       "stream": "stderr",
       "text": [
        "WARNING: pylab import has clobbered these variables: ['colors']\n",
        "`%matplotlib` prevents importing * from pylab and numpy\n"
       ]
      }
     ],
     "prompt_number": 50
    },
    {
     "cell_type": "markdown",
     "metadata": {},
     "source": [
      "# Import data from csv file and data set to pandas."
     ]
    },
    {
     "cell_type": "code",
     "collapsed": false,
     "input": [
      "olympics = pd.read_csv('Data/OlympicAthletes.csv', header=0, names=['Athlete','Age','Country','Year','Closing_Date','Sport','Gold','Silver','Bronze','Total'])"
     ],
     "language": "python",
     "metadata": {},
     "outputs": [],
     "prompt_number": 35
    },
    {
     "cell_type": "markdown",
     "metadata": {},
     "source": [
      "# Reshape Date Data from 1904 Date System"
     ]
    },
    {
     "cell_type": "markdown",
     "metadata": {},
     "source": [
      "#### The Macintosh default 1904-based date system counts 1904-01-02 as day one and 1904-01-01 as day zero. To clean up the data, we must convert each of the values in 'Closing Ceremony Date' to a relevant python datetime object"
     ]
    },
    {
     "cell_type": "code",
     "collapsed": false,
     "input": [
      "# get the Closing Ceremony Dates variable from the data\n",
      "closing_dates = olympics['Closing_Date']\n",
      "\n",
      "# create a list for holding the new date values\n",
      "closing_dates_fix = []\n",
      "\n",
      "# convert each 1904-based date to a datetime object and store it in closing_dates_fix\n",
      "for i in range(0, len(closing_dates)):\n",
      "    t = xlrd.xldate_as_tuple(olympics['Closing_Date'][i], 0)\n",
      "    closing_dates_fix.append(datetime.date(t[0], t[1], t[2]))\n",
      "    \n",
      "# replaces the values in the DataFrame\n",
      "olympics['Closing_Date'] = closing_dates_fix"
     ],
     "language": "python",
     "metadata": {},
     "outputs": [],
     "prompt_number": 36
    },
    {
     "cell_type": "markdown",
     "metadata": {},
     "source": [
      "#### Here we can verify that the Closing Ceremony Date data has been formatted correctly"
     ]
    },
    {
     "cell_type": "code",
     "collapsed": false,
     "input": [
      "olympics.head()"
     ],
     "language": "python",
     "metadata": {},
     "outputs": [
      {
       "html": [
        "<div style=\"max-height:1000px;max-width:1500px;overflow:auto;\">\n",
        "<table border=\"1\" class=\"dataframe\">\n",
        "  <thead>\n",
        "    <tr style=\"text-align: right;\">\n",
        "      <th></th>\n",
        "      <th>Athlete</th>\n",
        "      <th>Age</th>\n",
        "      <th>Country</th>\n",
        "      <th>Year</th>\n",
        "      <th>Closing_Date</th>\n",
        "      <th>Sport</th>\n",
        "      <th>Gold</th>\n",
        "      <th>Silver</th>\n",
        "      <th>Bronze</th>\n",
        "      <th>Total</th>\n",
        "    </tr>\n",
        "  </thead>\n",
        "  <tbody>\n",
        "    <tr>\n",
        "      <th>0</th>\n",
        "      <td>   Michael Phelps</td>\n",
        "      <td> 23</td>\n",
        "      <td> United States</td>\n",
        "      <td> 2008</td>\n",
        "      <td> 2008-08-24</td>\n",
        "      <td>   Swimming</td>\n",
        "      <td> 8</td>\n",
        "      <td> 0</td>\n",
        "      <td> 0</td>\n",
        "      <td> 8</td>\n",
        "    </tr>\n",
        "    <tr>\n",
        "      <th>1</th>\n",
        "      <td>   Michael Phelps</td>\n",
        "      <td> 19</td>\n",
        "      <td> United States</td>\n",
        "      <td> 2004</td>\n",
        "      <td> 2004-08-29</td>\n",
        "      <td>   Swimming</td>\n",
        "      <td> 6</td>\n",
        "      <td> 0</td>\n",
        "      <td> 2</td>\n",
        "      <td> 8</td>\n",
        "    </tr>\n",
        "    <tr>\n",
        "      <th>2</th>\n",
        "      <td>   Michael Phelps</td>\n",
        "      <td> 27</td>\n",
        "      <td> United States</td>\n",
        "      <td> 2012</td>\n",
        "      <td> 2012-08-12</td>\n",
        "      <td>   Swimming</td>\n",
        "      <td> 4</td>\n",
        "      <td> 2</td>\n",
        "      <td> 0</td>\n",
        "      <td> 6</td>\n",
        "    </tr>\n",
        "    <tr>\n",
        "      <th>3</th>\n",
        "      <td> Natalie Coughlin</td>\n",
        "      <td> 25</td>\n",
        "      <td> United States</td>\n",
        "      <td> 2008</td>\n",
        "      <td> 2008-08-24</td>\n",
        "      <td>   Swimming</td>\n",
        "      <td> 1</td>\n",
        "      <td> 2</td>\n",
        "      <td> 3</td>\n",
        "      <td> 6</td>\n",
        "    </tr>\n",
        "    <tr>\n",
        "      <th>4</th>\n",
        "      <td>    Aleksey Nemov</td>\n",
        "      <td> 24</td>\n",
        "      <td>        Russia</td>\n",
        "      <td> 2000</td>\n",
        "      <td> 2000-10-01</td>\n",
        "      <td> Gymnastics</td>\n",
        "      <td> 2</td>\n",
        "      <td> 1</td>\n",
        "      <td> 3</td>\n",
        "      <td> 6</td>\n",
        "    </tr>\n",
        "  </tbody>\n",
        "</table>\n",
        "</div>"
       ],
       "metadata": {},
       "output_type": "pyout",
       "prompt_number": 37,
       "text": [
        "            Athlete  Age        Country  Year Closing_Date       Sport  Gold  \\\n",
        "0    Michael Phelps   23  United States  2008   2008-08-24    Swimming     8   \n",
        "1    Michael Phelps   19  United States  2004   2004-08-29    Swimming     6   \n",
        "2    Michael Phelps   27  United States  2012   2012-08-12    Swimming     4   \n",
        "3  Natalie Coughlin   25  United States  2008   2008-08-24    Swimming     1   \n",
        "4     Aleksey Nemov   24         Russia  2000   2000-10-01  Gymnastics     2   \n",
        "\n",
        "   Silver  Bronze  Total  \n",
        "0       0       0      8  \n",
        "1       0       2      8  \n",
        "2       2       0      6  \n",
        "3       2       3      6  \n",
        "4       1       3      6  "
       ]
      }
     ],
     "prompt_number": 37
    },
    {
     "cell_type": "markdown",
     "metadata": {},
     "source": [
      "# Handle Missing Values"
     ]
    },
    {
     "cell_type": "markdown",
     "metadata": {},
     "source": [
      "#### Looking at the data we see there are some NaN values in the Age variable"
     ]
    },
    {
     "cell_type": "code",
     "collapsed": false,
     "input": [
      "np.count_nonzero(np.isnan(olympics['Age']))"
     ],
     "language": "python",
     "metadata": {},
     "outputs": [
      {
       "metadata": {},
       "output_type": "pyout",
       "prompt_number": 38,
       "text": [
        "5"
       ]
      }
     ],
     "prompt_number": 38
    },
    {
     "cell_type": "markdown",
     "metadata": {},
     "source": [
      "#### Replace missing age variable with the mean and store it in a new variable 'NewAge'"
     ]
    },
    {
     "cell_type": "code",
     "collapsed": false,
     "input": [
      "olympics['NewAge'] = olympics['Age'].replace(np.nan, mean(olympics['Age']))"
     ],
     "language": "python",
     "metadata": {},
     "outputs": [],
     "prompt_number": 39
    },
    {
     "cell_type": "markdown",
     "metadata": {},
     "source": [
      "#### next we can verify that the variable NewAge has no NaN values"
     ]
    },
    {
     "cell_type": "code",
     "collapsed": false,
     "input": [
      "np.count_nonzero(np.isnan(olympics['NewAge']))"
     ],
     "language": "python",
     "metadata": {},
     "outputs": [
      {
       "metadata": {},
       "output_type": "pyout",
       "prompt_number": 40,
       "text": [
        "0"
       ]
      }
     ],
     "prompt_number": 40
    },
    {
     "cell_type": "markdown",
     "metadata": {},
     "source": [
      "#### Looking at the data we see there are some Null values in the Athlete variable"
     ]
    },
    {
     "cell_type": "code",
     "collapsed": false,
     "input": [
      "np.count_nonzero(pd.isnull(olympics['Athlete']))"
     ],
     "language": "python",
     "metadata": {},
     "outputs": [
      {
       "metadata": {},
       "output_type": "pyout",
       "prompt_number": 41,
       "text": [
        "5"
       ]
      }
     ],
     "prompt_number": 41
    },
    {
     "cell_type": "markdown",
     "metadata": {},
     "source": [
      "#### Replace blank Athlete fields with \"Missing\" in a new variable 'NewAthlete'"
     ]
    },
    {
     "cell_type": "code",
     "collapsed": false,
     "input": [
      "olympics['NewAthlete'] = olympics['Athlete'].replace(np.nan, \"Missing\")"
     ],
     "language": "python",
     "metadata": {},
     "outputs": [],
     "prompt_number": 42
    },
    {
     "cell_type": "markdown",
     "metadata": {},
     "source": [
      "#### next we can verify that the variable NewAthlete has no Null values"
     ]
    },
    {
     "cell_type": "code",
     "collapsed": false,
     "input": [
      "np.count_nonzero(pd.isnull(olympics['NewAthlete']))"
     ],
     "language": "python",
     "metadata": {},
     "outputs": [
      {
       "metadata": {},
       "output_type": "pyout",
       "prompt_number": 43,
       "text": [
        "0"
       ]
      }
     ],
     "prompt_number": 43
    },
    {
     "cell_type": "markdown",
     "metadata": {},
     "source": [
      "# Save the reshaped data as a pickle"
     ]
    },
    {
     "cell_type": "code",
     "collapsed": false,
     "input": [
      "olympics.to_pickle('Pickle/OlympicsPickle')"
     ],
     "language": "python",
     "metadata": {},
     "outputs": [],
     "prompt_number": 44
    },
    {
     "cell_type": "markdown",
     "metadata": {},
     "source": [
      "# Get numerical summaries for variables"
     ]
    },
    {
     "cell_type": "code",
     "collapsed": false,
     "input": [
      "olympics.describe()"
     ],
     "language": "python",
     "metadata": {},
     "outputs": [
      {
       "html": [
        "<div style=\"max-height:1000px;max-width:1500px;overflow:auto;\">\n",
        "<table border=\"1\" class=\"dataframe\">\n",
        "  <thead>\n",
        "    <tr style=\"text-align: right;\">\n",
        "      <th></th>\n",
        "      <th>Age</th>\n",
        "      <th>Year</th>\n",
        "      <th>Gold</th>\n",
        "      <th>Silver</th>\n",
        "      <th>Bronze</th>\n",
        "      <th>Total</th>\n",
        "      <th>NewAge</th>\n",
        "    </tr>\n",
        "  </thead>\n",
        "  <tbody>\n",
        "    <tr>\n",
        "      <th>count</th>\n",
        "      <td> 8613.000000</td>\n",
        "      <td> 8618.000000</td>\n",
        "      <td> 8618.000000</td>\n",
        "      <td> 8618.000000</td>\n",
        "      <td> 8618.000000</td>\n",
        "      <td> 8618.000000</td>\n",
        "      <td> 8618.000000</td>\n",
        "    </tr>\n",
        "    <tr>\n",
        "      <th>mean</th>\n",
        "      <td>   26.405434</td>\n",
        "      <td> 2005.978881</td>\n",
        "      <td>    0.364702</td>\n",
        "      <td>    0.363309</td>\n",
        "      <td>    0.377698</td>\n",
        "      <td>    1.105709</td>\n",
        "      <td>   26.405434</td>\n",
        "    </tr>\n",
        "    <tr>\n",
        "      <th>std</th>\n",
        "      <td>    5.102118</td>\n",
        "      <td>    4.289946</td>\n",
        "      <td>    0.545349</td>\n",
        "      <td>    0.511613</td>\n",
        "      <td>    0.505005</td>\n",
        "      <td>    0.408892</td>\n",
        "      <td>    5.100638</td>\n",
        "    </tr>\n",
        "    <tr>\n",
        "      <th>min</th>\n",
        "      <td>   15.000000</td>\n",
        "      <td> 2000.000000</td>\n",
        "      <td>    0.000000</td>\n",
        "      <td>    0.000000</td>\n",
        "      <td>    0.000000</td>\n",
        "      <td>    1.000000</td>\n",
        "      <td>   15.000000</td>\n",
        "    </tr>\n",
        "    <tr>\n",
        "      <th>25%</th>\n",
        "      <td>   23.000000</td>\n",
        "      <td> 2002.000000</td>\n",
        "      <td>    0.000000</td>\n",
        "      <td>    0.000000</td>\n",
        "      <td>    0.000000</td>\n",
        "      <td>    1.000000</td>\n",
        "      <td>   23.000000</td>\n",
        "    </tr>\n",
        "    <tr>\n",
        "      <th>50%</th>\n",
        "      <td>   26.000000</td>\n",
        "      <td> 2006.000000</td>\n",
        "      <td>    0.000000</td>\n",
        "      <td>    0.000000</td>\n",
        "      <td>    0.000000</td>\n",
        "      <td>    1.000000</td>\n",
        "      <td>   26.000000</td>\n",
        "    </tr>\n",
        "    <tr>\n",
        "      <th>75%</th>\n",
        "      <td>   29.000000</td>\n",
        "      <td> 2010.000000</td>\n",
        "      <td>    1.000000</td>\n",
        "      <td>    1.000000</td>\n",
        "      <td>    1.000000</td>\n",
        "      <td>    1.000000</td>\n",
        "      <td>   29.000000</td>\n",
        "    </tr>\n",
        "    <tr>\n",
        "      <th>max</th>\n",
        "      <td>   61.000000</td>\n",
        "      <td> 2012.000000</td>\n",
        "      <td>    8.000000</td>\n",
        "      <td>    3.000000</td>\n",
        "      <td>    3.000000</td>\n",
        "      <td>    8.000000</td>\n",
        "      <td>   61.000000</td>\n",
        "    </tr>\n",
        "  </tbody>\n",
        "</table>\n",
        "</div>"
       ],
       "metadata": {},
       "output_type": "pyout",
       "prompt_number": 45,
       "text": [
        "               Age         Year         Gold       Silver       Bronze  \\\n",
        "count  8613.000000  8618.000000  8618.000000  8618.000000  8618.000000   \n",
        "mean     26.405434  2005.978881     0.364702     0.363309     0.377698   \n",
        "std       5.102118     4.289946     0.545349     0.511613     0.505005   \n",
        "min      15.000000  2000.000000     0.000000     0.000000     0.000000   \n",
        "25%      23.000000  2002.000000     0.000000     0.000000     0.000000   \n",
        "50%      26.000000  2006.000000     0.000000     0.000000     0.000000   \n",
        "75%      29.000000  2010.000000     1.000000     1.000000     1.000000   \n",
        "max      61.000000  2012.000000     8.000000     3.000000     3.000000   \n",
        "\n",
        "             Total       NewAge  \n",
        "count  8618.000000  8618.000000  \n",
        "mean      1.105709    26.405434  \n",
        "std       0.408892     5.100638  \n",
        "min       1.000000    15.000000  \n",
        "25%       1.000000    23.000000  \n",
        "50%       1.000000    26.000000  \n",
        "75%       1.000000    29.000000  \n",
        "max       8.000000    61.000000  "
       ]
      }
     ],
     "prompt_number": 45
    },
    {
     "cell_type": "markdown",
     "metadata": {},
     "source": [
      "# Visualize the data"
     ]
    },
    {
     "cell_type": "markdown",
     "metadata": {},
     "source": [
      "### Visualize the ages of the Olympic Athletes using a Histogram Plot"
     ]
    },
    {
     "cell_type": "markdown",
     "metadata": {},
     "source": [
      "note: this histogram is working with the NewAge variable where we replaced missing data with the mean in 5 occrurences"
     ]
    },
    {
     "cell_type": "code",
     "collapsed": false,
     "input": [
      "pl.xlabel(\"NewAge\")\n",
      "pl.ylabel(\"Occurances\")\n",
      "pl.title(\"Olympic Athlete (New)Ages: Histogram\")\n",
      "pl.hist(olympics['NewAge'], bins=90)\n",
      "pl.show()"
     ],
     "language": "python",
     "metadata": {},
     "outputs": [
      {
       "metadata": {},
       "output_type": "display_data",
       "png": "[encoded data removed]",
       "text": [
        "<matplotlib.figure.Figure at 0x10ad1ea90>"
       ]
      }
     ],
     "prompt_number": 46
    },
    {
     "cell_type": "markdown",
     "metadata": {},
     "source": [
      "### Get the top 5 countries with the most total medals"
     ]
    },
    {
     "cell_type": "code",
     "collapsed": false,
     "input": [
      "GroupByTotal = olympics.groupby('Country').Total.sum()\n",
      "GroupByTotal.sort(ascending=False)\n",
      "Top5 = GroupByTotal.head(5)\n",
      "Top5"
     ],
     "language": "python",
     "metadata": {},
     "outputs": [
      {
       "metadata": {},
       "output_type": "pyout",
       "prompt_number": 47,
       "text": [
        "Country\n",
        "United States    1312\n",
        "Russia            768\n",
        "Germany           629\n",
        "Australia         609\n",
        "China             530\n",
        "Name: Total, dtype: int64"
       ]
      }
     ],
     "prompt_number": 47
    },
    {
     "cell_type": "markdown",
     "metadata": {},
     "source": [
      "### Visualize the medals won by the Top 5 countries using a Bar Chart"
     ]
    },
    {
     "cell_type": "code",
     "collapsed": false,
     "input": [
      "# get a set of booleans for all the different medals \n",
      "bronze = olympics['Bronze'] >= 1\n",
      "silver = olympics['Silver'] >= 1\n",
      "gold   = olympics['Gold']   >= 1\n",
      "\n",
      "\n",
      "# get a set booleans for all the countrys in question\n",
      "usa          = olympics.Country == \"United States\"\n",
      "russia       = olympics.Country == \"Russia\"\n",
      "germany      = olympics.Country == \"China\"\n",
      "australia    = olympics.Country == \"Australia\"\n",
      "china        = olympics.Country == \"Germany\"\n",
      "\n",
      "\n",
      "# get counts for each countries bronze medals\n",
      "usaBronze          = len(olympics[usa & bronze])\n",
      "russiaBronze       = len(olympics[russia & bronze])\n",
      "germanyBronze      = len(olympics[germany & bronze])\n",
      "australiaBronze    = len(olympics[australia & bronze])\n",
      "chinaBronze        = len(olympics[china & bronze])\n",
      "\n",
      "\n",
      "# get counts for each countries silver medals\n",
      "usaSilver          = len(olympics[usa & silver])\n",
      "russiaSilver       = len(olympics[russia & silver])\n",
      "germanySilver      = len(olympics[germany & silver])\n",
      "australiaSilver    = len(olympics[australia & silver])\n",
      "chinaSilver        = len(olympics[china & silver])\n",
      "\n",
      "# get counts for each countries gold medals\n",
      "usaGold            = len(olympics[usa & gold])\n",
      "russiaGold         = len(olympics[russia & gold])\n",
      "germanyGold        = len(olympics[germany & gold])\n",
      "australiaGold      = len(olympics[australia & gold])\n",
      "chinaGold          = len(olympics[china & gold])\n",
      "\n",
      "# create a dictionary <K, V> 'Country Name' : Number of Medals\n",
      "bronzeCountries = {'USA' : usaBronze, 'Russia': russiaBronze, 'Germany': germanyBronze, \n",
      "                   'Australia': australiaBronze, 'China': chinaBronze}\n",
      "\n",
      "silverCountries = {'USA' : usaSilver, 'Russia': russiaSilver, 'Germany': germanySilver, \n",
      "                   'Australia': australiaSilver, 'China': chinaSilver}\n",
      "\n",
      "goldCountries   = {'USA' : usaGold, 'Russia': russiaGold, 'Germany': germanyGold, \n",
      "                   'Australia': australiaGold, 'China': chinaGold}\n",
      "\n",
      "# build a pandas DataFrame\n",
      "countryDF = pd.DataFrame.from_dict([bronzeCountries, silverCountries, goldCountries])\n",
      "countryDF = pd.DataFrame(countryDF.transpose())\n",
      "countryDF.columns = ['Bronze', 'Silver', 'Gold']\n",
      "\n",
      "# plot the DataFrame as a bar chart comparing countries and their medal counts\n",
      "colors = ['orange', 'silver', 'gold']    # Set the colors of the bars to match the medal colors\n",
      "countryDF.plot(kind='bar', title=\"Total\", color=colors, grid=False)\n",
      "\n",
      "pl.show()"
     ],
     "language": "python",
     "metadata": {},
     "outputs": [
      {
       "metadata": {},
       "output_type": "display_data",
       "png": "[encoded data removed]",
       "text": [
        "<matplotlib.figure.Figure at 0x10b38f250>"
       ]
      }
     ],
     "prompt_number": 48
    },
    {
     "cell_type": "markdown",
     "metadata": {},
     "source": [
      "####  Visualize those same 6 countries and the relative number of medals won, using a \"Horizontal Stacked Bar Chart\""
     ]
    },
    {
     "cell_type": "code",
     "collapsed": false,
     "input": [
      "# get the relative values of the Country Medals Data Frame, summing to 1\n",
      "countryRel = countryDF.div(countryDF.sum(1).astype(float), axis=0)\n",
      "\n",
      "# plot the relative values of the Country Medals as a bar chart\n",
      "colors = ['orange', 'silver', 'gold']\n",
      "countryRel.plot(kind='barh', stacked=True, title=\"Total Medals: Relative\", color=colors, grid=False)\n",
      "pl.show()"
     ],
     "language": "python",
     "metadata": {},
     "outputs": [
      {
       "metadata": {},
       "output_type": "display_data",
       "png": "[encoded data removed]",
       "text": [
        "<matplotlib.figure.Figure at 0x10b38f6d0>"
       ]
      }
     ],
     "prompt_number": 49
    },
    {
     "cell_type": "code",
     "collapsed": false,
     "input": [],
     "language": "python",
     "metadata": {},
     "outputs": [],
     "prompt_number": 49
    }
   ],
   "metadata": {}
  }
 ]
}